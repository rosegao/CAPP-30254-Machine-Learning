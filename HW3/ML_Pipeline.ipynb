{
 "cells": [
  {
   "cell_type": "markdown",
   "metadata": {},
   "source": [
    "<center> <h1> Homework 3 – Improving the Pipeline <h1> </center>\n",
    "### Goal:\n",
    "To improve the pipeline based on the feedback from previous assignments, and add a few components based on what we've covered in the past few lectures. More specifically, you need to:\n",
    "\n",
    "1. Fix and improve the pipeline code you submitted for the last assignment based on the feedback from the TA. if something critical was pointed out in the feedback, you need to fix it. \n",
    "\n",
    "2. Add more classifiers to the pipeline on the code you've written in lab. I’d recommend at least having Logistic Regression, K-Nearest Neighbor, Decision Trees, SVM, Random Forests, Boosting, and Bagging. The code should have a parameter for running one or more of these classifiers and your analysis should run all of them.\n",
    "\n",
    "3. Experiment with different parameters for these classifiers (different values of k for example, as well as parameters that other classifiers have). You should look at the sklearn documentation to see what parameter each classifier can take and what the default values sklearn selects.\n",
    "\n",
    "4. Add additional evaluation metrics that we've covered in class to the pipeline (accuracy, precision at different levels, recall at different levels, F1, area under curve, and precision-recall curves).\n",
    "\n",
    "5. Create temporal validation function in your pipeline that can create training and test sets over time. You can choose the length of these splits based on analyzing the data. For example, the test sets could be six months long and the training sets could be all the data before each test set.\n",
    "\n",
    "Analysis:\n",
    "\n",
    "Once you've set up the improved pipeline, you can use it to solve the problem at https://www.kaggle.com/c/kdd-cup-2014-predicting-excitement-at-donors-choose/data \n",
    "\n",
    "The goal is to predict, at posting time of a project, if a project will not get fully funded so we can intervene and help them improve the project listing. \n",
    "\n",
    "The code should produce a table with results across train test splits over time and performance metrics (baseline, precision and recall at different thresholds 1%, 2%, 5%, 10%, 20%, 30%, 50% and AUC_ROC)"
   ]
  },
  {
   "cell_type": "code",
   "execution_count": 194,
   "metadata": {},
   "outputs": [],
   "source": [
    "import pandas as pd\n",
    "import datetime\n",
    "import numpy as np\n",
    "import seaborn as sns\n",
    "from scipy.stats import norm, lognorm\n",
    "import statsmodels.api as sm\n",
    "import matplotlib.mlab as mlab\n",
    "import matplotlib.pyplot as plt\n",
    "%matplotlib inline\n",
    "\n",
    "from sklearn import svm\n",
    "from sklearn.ensemble import RandomForestClassifier, AdaBoostClassifier, BaggingClassifier\n",
    "from sklearn.linear_model import LogisticRegressionCV\n",
    "from sklearn.tree import DecisionTreeClassifier\n",
    "from sklearn.neighbors import KNeighborsClassifier\n",
    "from sklearn.cross_validation import train_test_split\n",
    "from sklearn.grid_search import ParameterGrid\n",
    "from sklearn.metrics import *"
   ]
  },
  {
   "cell_type": "code",
   "execution_count": 195,
   "metadata": {},
   "outputs": [],
   "source": [
    "# Supress unnecessary warnings\n",
    "import warnings\n",
    "warnings.filterwarnings('ignore')"
   ]
  },
  {
   "cell_type": "markdown",
   "metadata": {},
   "source": [
    "## 1. Load Data"
   ]
  },
  {
   "cell_type": "code",
   "execution_count": 196,
   "metadata": {},
   "outputs": [],
   "source": [
    "def load_data(filename, verbose=False):\n",
    "    df = pd.read_csv(filename, index_col=0)\n",
    "    if verbose:\n",
    "        print('Dataset shape:', df.shape)\n",
    "        print('Dataset columns:', df.columns)\n",
    "        print('Dataset types:', df.dtypes)\n",
    "        print('')\n",
    "    return df"
   ]
  },
  {
   "cell_type": "code",
   "execution_count": 197,
   "metadata": {},
   "outputs": [],
   "source": [
    "projects = load_data('data/projects.csv')"
   ]
  },
  {
   "cell_type": "code",
   "execution_count": 198,
   "metadata": {},
   "outputs": [],
   "source": [
    "outcomes = load_data('data/outcomes.csv')"
   ]
  },
  {
   "cell_type": "code",
   "execution_count": 199,
   "metadata": {},
   "outputs": [],
   "source": [
    "projects['fully_funded'] = outcomes['fully_funded']"
   ]
  },
  {
   "cell_type": "code",
   "execution_count": 200,
   "metadata": {},
   "outputs": [],
   "source": [
    "projects['date_posted'] = projects['date_posted'].apply(lambda x: datetime.datetime.strptime(x, \"%Y-%m-%d\"))"
   ]
  },
  {
   "cell_type": "code",
   "execution_count": 201,
   "metadata": {},
   "outputs": [],
   "source": [
    "df = projects[(projects['date_posted'].dt.year >= 2011) & (projects['date_posted'].dt.year <= 2013)]"
   ]
  },
  {
   "cell_type": "code",
   "execution_count": 202,
   "metadata": {},
   "outputs": [
    {
     "data": {
      "text/html": [
       "<div>\n",
       "<style scoped>\n",
       "    .dataframe tbody tr th:only-of-type {\n",
       "        vertical-align: middle;\n",
       "    }\n",
       "\n",
       "    .dataframe tbody tr th {\n",
       "        vertical-align: top;\n",
       "    }\n",
       "\n",
       "    .dataframe thead th {\n",
       "        text-align: right;\n",
       "    }\n",
       "</style>\n",
       "<table border=\"1\" class=\"dataframe\">\n",
       "  <thead>\n",
       "    <tr style=\"text-align: right;\">\n",
       "      <th></th>\n",
       "      <th>teacher_acctid</th>\n",
       "      <th>schoolid</th>\n",
       "      <th>school_ncesid</th>\n",
       "      <th>school_latitude</th>\n",
       "      <th>school_longitude</th>\n",
       "      <th>school_city</th>\n",
       "      <th>school_state</th>\n",
       "      <th>school_zip</th>\n",
       "      <th>school_metro</th>\n",
       "      <th>school_district</th>\n",
       "      <th>...</th>\n",
       "      <th>poverty_level</th>\n",
       "      <th>grade_level</th>\n",
       "      <th>fulfillment_labor_materials</th>\n",
       "      <th>total_price_excluding_optional_support</th>\n",
       "      <th>total_price_including_optional_support</th>\n",
       "      <th>students_reached</th>\n",
       "      <th>eligible_double_your_impact_match</th>\n",
       "      <th>eligible_almost_home_match</th>\n",
       "      <th>date_posted</th>\n",
       "      <th>fully_funded</th>\n",
       "    </tr>\n",
       "    <tr>\n",
       "      <th>projectid</th>\n",
       "      <th></th>\n",
       "      <th></th>\n",
       "      <th></th>\n",
       "      <th></th>\n",
       "      <th></th>\n",
       "      <th></th>\n",
       "      <th></th>\n",
       "      <th></th>\n",
       "      <th></th>\n",
       "      <th></th>\n",
       "      <th></th>\n",
       "      <th></th>\n",
       "      <th></th>\n",
       "      <th></th>\n",
       "      <th></th>\n",
       "      <th></th>\n",
       "      <th></th>\n",
       "      <th></th>\n",
       "      <th></th>\n",
       "      <th></th>\n",
       "      <th></th>\n",
       "    </tr>\n",
       "  </thead>\n",
       "  <tbody>\n",
       "    <tr>\n",
       "      <th>62526d85d2a1818432d03d600969e99c</th>\n",
       "      <td>ebc7c90b6c92a069432e0714b8d93dfd</td>\n",
       "      <td>5aca9711ff0e4b37db48701f46f73036</td>\n",
       "      <td>1.713710e+11</td>\n",
       "      <td>41.972419</td>\n",
       "      <td>-88.174597</td>\n",
       "      <td>Bartlett</td>\n",
       "      <td>IL</td>\n",
       "      <td>60103.0</td>\n",
       "      <td>suburban</td>\n",
       "      <td>Elgin School District U-46</td>\n",
       "      <td>...</td>\n",
       "      <td>moderate poverty</td>\n",
       "      <td>Grades 3-5</td>\n",
       "      <td>30.0</td>\n",
       "      <td>444.36</td>\n",
       "      <td>522.78</td>\n",
       "      <td>7.0</td>\n",
       "      <td>f</td>\n",
       "      <td>f</td>\n",
       "      <td>2013-12-31</td>\n",
       "      <td>t</td>\n",
       "    </tr>\n",
       "    <tr>\n",
       "      <th>33d59ac771b80222ad63ef0f4ac47ade</th>\n",
       "      <td>de83b4c1f6428a15032c207c1d5e572a</td>\n",
       "      <td>d91a805b213bf74ae77b94e0de2b73ad</td>\n",
       "      <td>1.601530e+11</td>\n",
       "      <td>43.501154</td>\n",
       "      <td>-112.056780</td>\n",
       "      <td>Idaho Falls</td>\n",
       "      <td>ID</td>\n",
       "      <td>83402.0</td>\n",
       "      <td>urban</td>\n",
       "      <td>Idaho Falls School District 91</td>\n",
       "      <td>...</td>\n",
       "      <td>high poverty</td>\n",
       "      <td>Grades 3-5</td>\n",
       "      <td>30.0</td>\n",
       "      <td>233.24</td>\n",
       "      <td>274.40</td>\n",
       "      <td>30.0</td>\n",
       "      <td>f</td>\n",
       "      <td>f</td>\n",
       "      <td>2013-12-31</td>\n",
       "      <td>f</td>\n",
       "    </tr>\n",
       "    <tr>\n",
       "      <th>1a3aaeffc56dd2a421e37d8298024c0a</th>\n",
       "      <td>f4c9ed095b85458dcf858e25f203af00</td>\n",
       "      <td>9310d3eb447a4e46bc5fc31ed007ceac</td>\n",
       "      <td>3.302610e+11</td>\n",
       "      <td>42.888244</td>\n",
       "      <td>-71.320224</td>\n",
       "      <td>Derry</td>\n",
       "      <td>NH</td>\n",
       "      <td>3038.0</td>\n",
       "      <td>suburban</td>\n",
       "      <td>School Administrative Unit 10</td>\n",
       "      <td>...</td>\n",
       "      <td>moderate poverty</td>\n",
       "      <td>Grades 6-8</td>\n",
       "      <td>30.0</td>\n",
       "      <td>285.09</td>\n",
       "      <td>335.40</td>\n",
       "      <td>230.0</td>\n",
       "      <td>f</td>\n",
       "      <td>f</td>\n",
       "      <td>2013-12-31</td>\n",
       "      <td>f</td>\n",
       "    </tr>\n",
       "    <tr>\n",
       "      <th>33aa19ee4da4c5adf47d0dfb84fab5ef</th>\n",
       "      <td>17768031eb40de8d4497dbb54df48742</td>\n",
       "      <td>9ac70da58322783f82152eecc140a812</td>\n",
       "      <td>5.103240e+11</td>\n",
       "      <td>37.476158</td>\n",
       "      <td>-77.488397</td>\n",
       "      <td>Richmond</td>\n",
       "      <td>VA</td>\n",
       "      <td>23224.0</td>\n",
       "      <td>urban</td>\n",
       "      <td>Richmond City School District</td>\n",
       "      <td>...</td>\n",
       "      <td>highest poverty</td>\n",
       "      <td>Grades PreK-2</td>\n",
       "      <td>30.0</td>\n",
       "      <td>232.94</td>\n",
       "      <td>274.05</td>\n",
       "      <td>18.0</td>\n",
       "      <td>f</td>\n",
       "      <td>f</td>\n",
       "      <td>2013-12-31</td>\n",
       "      <td>f</td>\n",
       "    </tr>\n",
       "    <tr>\n",
       "      <th>e31c0ea8b68f404699dfb0d39e9bc99b</th>\n",
       "      <td>0f1bc5b4700fd33383be104442660178</td>\n",
       "      <td>cb9f688cf59e3ee22a087d616ca8f5d7</td>\n",
       "      <td>1.709930e+11</td>\n",
       "      <td>41.952851</td>\n",
       "      <td>-87.650233</td>\n",
       "      <td>Chicago</td>\n",
       "      <td>IL</td>\n",
       "      <td>60613.0</td>\n",
       "      <td>urban</td>\n",
       "      <td>Ravenswood-ridge Elem Network</td>\n",
       "      <td>...</td>\n",
       "      <td>highest poverty</td>\n",
       "      <td>Grades 6-8</td>\n",
       "      <td>30.0</td>\n",
       "      <td>513.41</td>\n",
       "      <td>604.01</td>\n",
       "      <td>70.0</td>\n",
       "      <td>t</td>\n",
       "      <td>f</td>\n",
       "      <td>2013-12-31</td>\n",
       "      <td>t</td>\n",
       "    </tr>\n",
       "  </tbody>\n",
       "</table>\n",
       "<p>5 rows × 35 columns</p>\n",
       "</div>"
      ],
      "text/plain": [
       "                                                    teacher_acctid  \\\n",
       "projectid                                                            \n",
       "62526d85d2a1818432d03d600969e99c  ebc7c90b6c92a069432e0714b8d93dfd   \n",
       "33d59ac771b80222ad63ef0f4ac47ade  de83b4c1f6428a15032c207c1d5e572a   \n",
       "1a3aaeffc56dd2a421e37d8298024c0a  f4c9ed095b85458dcf858e25f203af00   \n",
       "33aa19ee4da4c5adf47d0dfb84fab5ef  17768031eb40de8d4497dbb54df48742   \n",
       "e31c0ea8b68f404699dfb0d39e9bc99b  0f1bc5b4700fd33383be104442660178   \n",
       "\n",
       "                                                          schoolid  \\\n",
       "projectid                                                            \n",
       "62526d85d2a1818432d03d600969e99c  5aca9711ff0e4b37db48701f46f73036   \n",
       "33d59ac771b80222ad63ef0f4ac47ade  d91a805b213bf74ae77b94e0de2b73ad   \n",
       "1a3aaeffc56dd2a421e37d8298024c0a  9310d3eb447a4e46bc5fc31ed007ceac   \n",
       "33aa19ee4da4c5adf47d0dfb84fab5ef  9ac70da58322783f82152eecc140a812   \n",
       "e31c0ea8b68f404699dfb0d39e9bc99b  cb9f688cf59e3ee22a087d616ca8f5d7   \n",
       "\n",
       "                                  school_ncesid  school_latitude  \\\n",
       "projectid                                                          \n",
       "62526d85d2a1818432d03d600969e99c   1.713710e+11        41.972419   \n",
       "33d59ac771b80222ad63ef0f4ac47ade   1.601530e+11        43.501154   \n",
       "1a3aaeffc56dd2a421e37d8298024c0a   3.302610e+11        42.888244   \n",
       "33aa19ee4da4c5adf47d0dfb84fab5ef   5.103240e+11        37.476158   \n",
       "e31c0ea8b68f404699dfb0d39e9bc99b   1.709930e+11        41.952851   \n",
       "\n",
       "                                  school_longitude  school_city school_state  \\\n",
       "projectid                                                                      \n",
       "62526d85d2a1818432d03d600969e99c        -88.174597     Bartlett           IL   \n",
       "33d59ac771b80222ad63ef0f4ac47ade       -112.056780  Idaho Falls           ID   \n",
       "1a3aaeffc56dd2a421e37d8298024c0a        -71.320224        Derry           NH   \n",
       "33aa19ee4da4c5adf47d0dfb84fab5ef        -77.488397     Richmond           VA   \n",
       "e31c0ea8b68f404699dfb0d39e9bc99b        -87.650233      Chicago           IL   \n",
       "\n",
       "                                  school_zip school_metro  \\\n",
       "projectid                                                   \n",
       "62526d85d2a1818432d03d600969e99c     60103.0     suburban   \n",
       "33d59ac771b80222ad63ef0f4ac47ade     83402.0        urban   \n",
       "1a3aaeffc56dd2a421e37d8298024c0a      3038.0     suburban   \n",
       "33aa19ee4da4c5adf47d0dfb84fab5ef     23224.0        urban   \n",
       "e31c0ea8b68f404699dfb0d39e9bc99b     60613.0        urban   \n",
       "\n",
       "                                                 school_district     ...       \\\n",
       "projectid                                                            ...        \n",
       "62526d85d2a1818432d03d600969e99c      Elgin School District U-46     ...        \n",
       "33d59ac771b80222ad63ef0f4ac47ade  Idaho Falls School District 91     ...        \n",
       "1a3aaeffc56dd2a421e37d8298024c0a   School Administrative Unit 10     ...        \n",
       "33aa19ee4da4c5adf47d0dfb84fab5ef   Richmond City School District     ...        \n",
       "e31c0ea8b68f404699dfb0d39e9bc99b   Ravenswood-ridge Elem Network     ...        \n",
       "\n",
       "                                     poverty_level    grade_level  \\\n",
       "projectid                                                           \n",
       "62526d85d2a1818432d03d600969e99c  moderate poverty     Grades 3-5   \n",
       "33d59ac771b80222ad63ef0f4ac47ade      high poverty     Grades 3-5   \n",
       "1a3aaeffc56dd2a421e37d8298024c0a  moderate poverty     Grades 6-8   \n",
       "33aa19ee4da4c5adf47d0dfb84fab5ef   highest poverty  Grades PreK-2   \n",
       "e31c0ea8b68f404699dfb0d39e9bc99b   highest poverty     Grades 6-8   \n",
       "\n",
       "                                 fulfillment_labor_materials  \\\n",
       "projectid                                                      \n",
       "62526d85d2a1818432d03d600969e99c                        30.0   \n",
       "33d59ac771b80222ad63ef0f4ac47ade                        30.0   \n",
       "1a3aaeffc56dd2a421e37d8298024c0a                        30.0   \n",
       "33aa19ee4da4c5adf47d0dfb84fab5ef                        30.0   \n",
       "e31c0ea8b68f404699dfb0d39e9bc99b                        30.0   \n",
       "\n",
       "                                 total_price_excluding_optional_support  \\\n",
       "projectid                                                                 \n",
       "62526d85d2a1818432d03d600969e99c                                 444.36   \n",
       "33d59ac771b80222ad63ef0f4ac47ade                                 233.24   \n",
       "1a3aaeffc56dd2a421e37d8298024c0a                                 285.09   \n",
       "33aa19ee4da4c5adf47d0dfb84fab5ef                                 232.94   \n",
       "e31c0ea8b68f404699dfb0d39e9bc99b                                 513.41   \n",
       "\n",
       "                                 total_price_including_optional_support  \\\n",
       "projectid                                                                 \n",
       "62526d85d2a1818432d03d600969e99c                                 522.78   \n",
       "33d59ac771b80222ad63ef0f4ac47ade                                 274.40   \n",
       "1a3aaeffc56dd2a421e37d8298024c0a                                 335.40   \n",
       "33aa19ee4da4c5adf47d0dfb84fab5ef                                 274.05   \n",
       "e31c0ea8b68f404699dfb0d39e9bc99b                                 604.01   \n",
       "\n",
       "                                 students_reached  \\\n",
       "projectid                                           \n",
       "62526d85d2a1818432d03d600969e99c              7.0   \n",
       "33d59ac771b80222ad63ef0f4ac47ade             30.0   \n",
       "1a3aaeffc56dd2a421e37d8298024c0a            230.0   \n",
       "33aa19ee4da4c5adf47d0dfb84fab5ef             18.0   \n",
       "e31c0ea8b68f404699dfb0d39e9bc99b             70.0   \n",
       "\n",
       "                                 eligible_double_your_impact_match  \\\n",
       "projectid                                                            \n",
       "62526d85d2a1818432d03d600969e99c                                 f   \n",
       "33d59ac771b80222ad63ef0f4ac47ade                                 f   \n",
       "1a3aaeffc56dd2a421e37d8298024c0a                                 f   \n",
       "33aa19ee4da4c5adf47d0dfb84fab5ef                                 f   \n",
       "e31c0ea8b68f404699dfb0d39e9bc99b                                 t   \n",
       "\n",
       "                                 eligible_almost_home_match date_posted  \\\n",
       "projectid                                                                 \n",
       "62526d85d2a1818432d03d600969e99c                          f  2013-12-31   \n",
       "33d59ac771b80222ad63ef0f4ac47ade                          f  2013-12-31   \n",
       "1a3aaeffc56dd2a421e37d8298024c0a                          f  2013-12-31   \n",
       "33aa19ee4da4c5adf47d0dfb84fab5ef                          f  2013-12-31   \n",
       "e31c0ea8b68f404699dfb0d39e9bc99b                          f  2013-12-31   \n",
       "\n",
       "                                 fully_funded  \n",
       "projectid                                      \n",
       "62526d85d2a1818432d03d600969e99c            t  \n",
       "33d59ac771b80222ad63ef0f4ac47ade            f  \n",
       "1a3aaeffc56dd2a421e37d8298024c0a            f  \n",
       "33aa19ee4da4c5adf47d0dfb84fab5ef            f  \n",
       "e31c0ea8b68f404699dfb0d39e9bc99b            t  \n",
       "\n",
       "[5 rows x 35 columns]"
      ]
     },
     "execution_count": 202,
     "metadata": {},
     "output_type": "execute_result"
    }
   ],
   "source": [
    "df.head()"
   ]
  },
  {
   "cell_type": "markdown",
   "metadata": {},
   "source": [
    "## 2. Explore Data"
   ]
  },
  {
   "cell_type": "markdown",
   "metadata": {},
   "source": [
    "#### Check Correlation"
   ]
  },
  {
   "cell_type": "code",
   "execution_count": 203,
   "metadata": {
    "scrolled": false
   },
   "outputs": [],
   "source": [
    "def create_correlation_heatmap(df):\n",
    "    # compute correlation matrix\n",
    "    corr = df.corr()\n",
    "    \n",
    "    # generate a mask for the upper triangle\n",
    "    mask = np.zeros_like(corr, dtype=np.bool)\n",
    "    mask[np.triu_indices_from(mask)] = True\n",
    "    \n",
    "    # create figure and plot\n",
    "    fig = plt.figure(figsize=(len(cont_feats), 5)) \n",
    "    sns.heatmap(corr, mask=mask, annot=True, fmt='.2f', cmap=sns.diverging_palette(220, 10, as_cmap=True))\n",
    "    plt.show()"
   ]
  },
  {
   "cell_type": "code",
   "execution_count": 204,
   "metadata": {},
   "outputs": [
    {
     "data": {
      "image/png": "[encoded data removed]",
      "text/plain": [
       "<matplotlib.figure.Figure at 0x1e746a8e860>"
      ]
     },
     "metadata": {},
     "output_type": "display_data"
    }
   ],
   "source": [
    "cont_feats = list(df.describe())\n",
    "create_correlation_heatmap(df)"
   ]
  },
  {
   "cell_type": "markdown",
   "metadata": {},
   "source": [
    "## 3. Pre-Process and Clean Data"
   ]
  },
  {
   "cell_type": "markdown",
   "metadata": {},
   "source": [
    "#### Convert 'fully_funded' from t/f to 1/0"
   ]
  },
  {
   "cell_type": "code",
   "execution_count": 205,
   "metadata": {},
   "outputs": [],
   "source": [
    "def convert_str_to_binary(binary_cols):\n",
    "    for i in binary_cols:\n",
    "        if df[i].dtype != 'int32':\n",
    "            df[i] = np.where((df[i] == 't'), 1, 0)"
   ]
  },
  {
   "cell_type": "code",
   "execution_count": 206,
   "metadata": {},
   "outputs": [],
   "source": [
    "binary_cols = ['school_county', 'school_charter', 'school_magnet', 'school_year_round',\n",
    "               'school_nlns', 'school_kipp', 'teacher_teach_for_america', 'teacher_ny_teaching_fellow',\n",
    "               'eligible_double_your_impact_match', 'eligible_almost_home_match', 'fully_funded']\n",
    "\n",
    "convert_str_to_binary(binary_cols)"
   ]
  },
  {
   "cell_type": "markdown",
   "metadata": {},
   "source": [
    "### 4. Generate Features/Predictors"
   ]
  },
  {
   "cell_type": "markdown",
   "metadata": {},
   "source": [
    "#### Drop columns"
   ]
  },
  {
   "cell_type": "code",
   "execution_count": 207,
   "metadata": {
    "scrolled": true
   },
   "outputs": [
    {
     "data": {
      "text/plain": [
       "Index(['teacher_acctid', 'schoolid', 'school_ncesid', 'school_latitude',\n",
       "       'school_longitude', 'school_city', 'school_state', 'school_zip',\n",
       "       'school_metro', 'school_district', 'school_county', 'school_charter',\n",
       "       'school_magnet', 'school_year_round', 'school_nlns', 'school_kipp',\n",
       "       'school_charter_ready_promise', 'teacher_prefix',\n",
       "       'teacher_teach_for_america', 'teacher_ny_teaching_fellow',\n",
       "       'primary_focus_subject', 'primary_focus_area',\n",
       "       'secondary_focus_subject', 'secondary_focus_area', 'resource_type',\n",
       "       'poverty_level', 'grade_level', 'fulfillment_labor_materials',\n",
       "       'total_price_excluding_optional_support',\n",
       "       'total_price_including_optional_support', 'students_reached',\n",
       "       'eligible_double_your_impact_match', 'eligible_almost_home_match',\n",
       "       'date_posted', 'fully_funded'],\n",
       "      dtype='object')"
      ]
     },
     "execution_count": 207,
     "metadata": {},
     "output_type": "execute_result"
    }
   ],
   "source": [
    "df.columns"
   ]
  },
  {
   "cell_type": "code",
   "execution_count": 208,
   "metadata": {},
   "outputs": [],
   "source": [
    "df = df.drop(columns=['teacher_acctid', 'schoolid', 'school_ncesid', 'school_latitude', 'school_longitude',\n",
    "                 'school_city', 'school_state', 'school_zip', 'school_district'])"
   ]
  },
  {
   "cell_type": "markdown",
   "metadata": {},
   "source": [
    "#### Convert Datetime Feature to Numeric Features"
   ]
  },
  {
   "cell_type": "code",
   "execution_count": 209,
   "metadata": {},
   "outputs": [],
   "source": [
    "df['weekday'] = df['date_posted'].dt.dayofweek\n",
    "df['week'] = df['date_posted'].dt.weekofyear"
   ]
  },
  {
   "cell_type": "markdown",
   "metadata": {},
   "source": [
    "#### Convert Categorical Features to Binary Features"
   ]
  },
  {
   "cell_type": "code",
   "execution_count": 210,
   "metadata": {},
   "outputs": [],
   "source": [
    "def one_hot_encoding_categorical(df):\n",
    "    # separate out categorical features\n",
    "    cat_feats = [x for x in df.select_dtypes(include=['object']).columns]\n",
    "    print(cat_feats)\n",
    "    \n",
    "    # one hot encoding for categorical features\n",
    "    binary_feats = pd.get_dummies(df[cat_feats])\n",
    "\n",
    "    # concatenate binary features\n",
    "    df = pd.concat([df, binary_feats], axis=1)\n",
    "    df = df.drop(cat_feats, axis=1)\n",
    "    return df"
   ]
  },
  {
   "cell_type": "code",
   "execution_count": 211,
   "metadata": {},
   "outputs": [
    {
     "name": "stdout",
     "output_type": "stream",
     "text": [
      "['school_metro', 'school_charter_ready_promise', 'teacher_prefix', 'primary_focus_subject', 'primary_focus_area', 'secondary_focus_subject', 'secondary_focus_area', 'resource_type', 'poverty_level', 'grade_level']\n"
     ]
    }
   ],
   "source": [
    "df = one_hot_encoding_categorical(df)"
   ]
  },
  {
   "cell_type": "markdown",
   "metadata": {},
   "source": [
    "#### Fill NAs"
   ]
  },
  {
   "cell_type": "code",
   "execution_count": 212,
   "metadata": {},
   "outputs": [],
   "source": [
    "def fill_na_with_zero(df):\n",
    "    df2 = df.copy(deep=True)\n",
    "    null_vars = list(df2.columns[df2.isnull().any()])\n",
    "    for i in null_vars:\n",
    "        df2[i] = df2[i].fillna(0)\n",
    "    return df2"
   ]
  },
  {
   "cell_type": "code",
   "execution_count": 213,
   "metadata": {},
   "outputs": [],
   "source": [
    "def fill_na_with_median(df):\n",
    "    df2 = df.copy(deep=True)\n",
    "    null_vars = list(df.columns[df2.isnull().any()])\n",
    "    for i in null_vars:\n",
    "        df2[i] = df2[i].fillna(df2[i].median())\n",
    "    return df2"
   ]
  },
  {
   "cell_type": "code",
   "execution_count": 214,
   "metadata": {},
   "outputs": [],
   "source": [
    "def fill_na_with_neg_one(df):\n",
    "    df2 = df.copy(deep=True)\n",
    "    null_vars = list(df2.columns[df2.isnull().any()])\n",
    "    for i in null_vars:\n",
    "        df2[i] = df2[i].fillna(-1)\n",
    "    return df2"
   ]
  },
  {
   "cell_type": "code",
   "execution_count": 215,
   "metadata": {},
   "outputs": [],
   "source": [
    "df = fill_na_with_zero(df)"
   ]
  },
  {
   "cell_type": "code",
   "execution_count": 217,
   "metadata": {},
   "outputs": [
    {
     "data": {
      "text/html": [
       "<div>\n",
       "<style scoped>\n",
       "    .dataframe tbody tr th:only-of-type {\n",
       "        vertical-align: middle;\n",
       "    }\n",
       "\n",
       "    .dataframe tbody tr th {\n",
       "        vertical-align: top;\n",
       "    }\n",
       "\n",
       "    .dataframe thead th {\n",
       "        text-align: right;\n",
       "    }\n",
       "</style>\n",
       "<table border=\"1\" class=\"dataframe\">\n",
       "  <thead>\n",
       "    <tr style=\"text-align: right;\">\n",
       "      <th></th>\n",
       "      <th>school_county</th>\n",
       "      <th>school_charter</th>\n",
       "      <th>school_magnet</th>\n",
       "      <th>school_year_round</th>\n",
       "      <th>school_nlns</th>\n",
       "      <th>school_kipp</th>\n",
       "      <th>teacher_teach_for_america</th>\n",
       "      <th>teacher_ny_teaching_fellow</th>\n",
       "      <th>fulfillment_labor_materials</th>\n",
       "      <th>total_price_excluding_optional_support</th>\n",
       "      <th>...</th>\n",
       "      <th>resource_type_Trips</th>\n",
       "      <th>resource_type_Visitors</th>\n",
       "      <th>poverty_level_high poverty</th>\n",
       "      <th>poverty_level_highest poverty</th>\n",
       "      <th>poverty_level_low poverty</th>\n",
       "      <th>poverty_level_moderate poverty</th>\n",
       "      <th>grade_level_Grades 3-5</th>\n",
       "      <th>grade_level_Grades 6-8</th>\n",
       "      <th>grade_level_Grades 9-12</th>\n",
       "      <th>grade_level_Grades PreK-2</th>\n",
       "    </tr>\n",
       "    <tr>\n",
       "      <th>projectid</th>\n",
       "      <th></th>\n",
       "      <th></th>\n",
       "      <th></th>\n",
       "      <th></th>\n",
       "      <th></th>\n",
       "      <th></th>\n",
       "      <th></th>\n",
       "      <th></th>\n",
       "      <th></th>\n",
       "      <th></th>\n",
       "      <th></th>\n",
       "      <th></th>\n",
       "      <th></th>\n",
       "      <th></th>\n",
       "      <th></th>\n",
       "      <th></th>\n",
       "      <th></th>\n",
       "      <th></th>\n",
       "      <th></th>\n",
       "      <th></th>\n",
       "      <th></th>\n",
       "    </tr>\n",
       "  </thead>\n",
       "  <tbody>\n",
       "    <tr>\n",
       "      <th>62526d85d2a1818432d03d600969e99c</th>\n",
       "      <td>0</td>\n",
       "      <td>0</td>\n",
       "      <td>0</td>\n",
       "      <td>0</td>\n",
       "      <td>0</td>\n",
       "      <td>0</td>\n",
       "      <td>0</td>\n",
       "      <td>0</td>\n",
       "      <td>30.0</td>\n",
       "      <td>444.36</td>\n",
       "      <td>...</td>\n",
       "      <td>0</td>\n",
       "      <td>0</td>\n",
       "      <td>0</td>\n",
       "      <td>0</td>\n",
       "      <td>0</td>\n",
       "      <td>1</td>\n",
       "      <td>1</td>\n",
       "      <td>0</td>\n",
       "      <td>0</td>\n",
       "      <td>0</td>\n",
       "    </tr>\n",
       "    <tr>\n",
       "      <th>33d59ac771b80222ad63ef0f4ac47ade</th>\n",
       "      <td>0</td>\n",
       "      <td>0</td>\n",
       "      <td>0</td>\n",
       "      <td>0</td>\n",
       "      <td>0</td>\n",
       "      <td>0</td>\n",
       "      <td>0</td>\n",
       "      <td>0</td>\n",
       "      <td>30.0</td>\n",
       "      <td>233.24</td>\n",
       "      <td>...</td>\n",
       "      <td>0</td>\n",
       "      <td>0</td>\n",
       "      <td>1</td>\n",
       "      <td>0</td>\n",
       "      <td>0</td>\n",
       "      <td>0</td>\n",
       "      <td>1</td>\n",
       "      <td>0</td>\n",
       "      <td>0</td>\n",
       "      <td>0</td>\n",
       "    </tr>\n",
       "    <tr>\n",
       "      <th>1a3aaeffc56dd2a421e37d8298024c0a</th>\n",
       "      <td>0</td>\n",
       "      <td>0</td>\n",
       "      <td>0</td>\n",
       "      <td>0</td>\n",
       "      <td>0</td>\n",
       "      <td>0</td>\n",
       "      <td>0</td>\n",
       "      <td>0</td>\n",
       "      <td>30.0</td>\n",
       "      <td>285.09</td>\n",
       "      <td>...</td>\n",
       "      <td>0</td>\n",
       "      <td>0</td>\n",
       "      <td>0</td>\n",
       "      <td>0</td>\n",
       "      <td>0</td>\n",
       "      <td>1</td>\n",
       "      <td>0</td>\n",
       "      <td>1</td>\n",
       "      <td>0</td>\n",
       "      <td>0</td>\n",
       "    </tr>\n",
       "    <tr>\n",
       "      <th>33aa19ee4da4c5adf47d0dfb84fab5ef</th>\n",
       "      <td>0</td>\n",
       "      <td>0</td>\n",
       "      <td>0</td>\n",
       "      <td>0</td>\n",
       "      <td>0</td>\n",
       "      <td>0</td>\n",
       "      <td>0</td>\n",
       "      <td>0</td>\n",
       "      <td>30.0</td>\n",
       "      <td>232.94</td>\n",
       "      <td>...</td>\n",
       "      <td>0</td>\n",
       "      <td>0</td>\n",
       "      <td>0</td>\n",
       "      <td>1</td>\n",
       "      <td>0</td>\n",
       "      <td>0</td>\n",
       "      <td>0</td>\n",
       "      <td>0</td>\n",
       "      <td>0</td>\n",
       "      <td>1</td>\n",
       "    </tr>\n",
       "    <tr>\n",
       "      <th>e31c0ea8b68f404699dfb0d39e9bc99b</th>\n",
       "      <td>0</td>\n",
       "      <td>0</td>\n",
       "      <td>1</td>\n",
       "      <td>0</td>\n",
       "      <td>0</td>\n",
       "      <td>0</td>\n",
       "      <td>0</td>\n",
       "      <td>0</td>\n",
       "      <td>30.0</td>\n",
       "      <td>513.41</td>\n",
       "      <td>...</td>\n",
       "      <td>0</td>\n",
       "      <td>0</td>\n",
       "      <td>0</td>\n",
       "      <td>1</td>\n",
       "      <td>0</td>\n",
       "      <td>0</td>\n",
       "      <td>0</td>\n",
       "      <td>1</td>\n",
       "      <td>0</td>\n",
       "      <td>0</td>\n",
       "    </tr>\n",
       "  </tbody>\n",
       "</table>\n",
       "<p>5 rows × 109 columns</p>\n",
       "</div>"
      ],
      "text/plain": [
       "                                  school_county  school_charter  \\\n",
       "projectid                                                         \n",
       "62526d85d2a1818432d03d600969e99c              0               0   \n",
       "33d59ac771b80222ad63ef0f4ac47ade              0               0   \n",
       "1a3aaeffc56dd2a421e37d8298024c0a              0               0   \n",
       "33aa19ee4da4c5adf47d0dfb84fab5ef              0               0   \n",
       "e31c0ea8b68f404699dfb0d39e9bc99b              0               0   \n",
       "\n",
       "                                  school_magnet  school_year_round  \\\n",
       "projectid                                                            \n",
       "62526d85d2a1818432d03d600969e99c              0                  0   \n",
       "33d59ac771b80222ad63ef0f4ac47ade              0                  0   \n",
       "1a3aaeffc56dd2a421e37d8298024c0a              0                  0   \n",
       "33aa19ee4da4c5adf47d0dfb84fab5ef              0                  0   \n",
       "e31c0ea8b68f404699dfb0d39e9bc99b              1                  0   \n",
       "\n",
       "                                  school_nlns  school_kipp  \\\n",
       "projectid                                                    \n",
       "62526d85d2a1818432d03d600969e99c            0            0   \n",
       "33d59ac771b80222ad63ef0f4ac47ade            0            0   \n",
       "1a3aaeffc56dd2a421e37d8298024c0a            0            0   \n",
       "33aa19ee4da4c5adf47d0dfb84fab5ef            0            0   \n",
       "e31c0ea8b68f404699dfb0d39e9bc99b            0            0   \n",
       "\n",
       "                                  teacher_teach_for_america  \\\n",
       "projectid                                                     \n",
       "62526d85d2a1818432d03d600969e99c                          0   \n",
       "33d59ac771b80222ad63ef0f4ac47ade                          0   \n",
       "1a3aaeffc56dd2a421e37d8298024c0a                          0   \n",
       "33aa19ee4da4c5adf47d0dfb84fab5ef                          0   \n",
       "e31c0ea8b68f404699dfb0d39e9bc99b                          0   \n",
       "\n",
       "                                  teacher_ny_teaching_fellow  \\\n",
       "projectid                                                      \n",
       "62526d85d2a1818432d03d600969e99c                           0   \n",
       "33d59ac771b80222ad63ef0f4ac47ade                           0   \n",
       "1a3aaeffc56dd2a421e37d8298024c0a                           0   \n",
       "33aa19ee4da4c5adf47d0dfb84fab5ef                           0   \n",
       "e31c0ea8b68f404699dfb0d39e9bc99b                           0   \n",
       "\n",
       "                                  fulfillment_labor_materials  \\\n",
       "projectid                                                       \n",
       "62526d85d2a1818432d03d600969e99c                         30.0   \n",
       "33d59ac771b80222ad63ef0f4ac47ade                         30.0   \n",
       "1a3aaeffc56dd2a421e37d8298024c0a                         30.0   \n",
       "33aa19ee4da4c5adf47d0dfb84fab5ef                         30.0   \n",
       "e31c0ea8b68f404699dfb0d39e9bc99b                         30.0   \n",
       "\n",
       "                                  total_price_excluding_optional_support  \\\n",
       "projectid                                                                  \n",
       "62526d85d2a1818432d03d600969e99c                                  444.36   \n",
       "33d59ac771b80222ad63ef0f4ac47ade                                  233.24   \n",
       "1a3aaeffc56dd2a421e37d8298024c0a                                  285.09   \n",
       "33aa19ee4da4c5adf47d0dfb84fab5ef                                  232.94   \n",
       "e31c0ea8b68f404699dfb0d39e9bc99b                                  513.41   \n",
       "\n",
       "                                            ...              \\\n",
       "projectid                                   ...               \n",
       "62526d85d2a1818432d03d600969e99c            ...               \n",
       "33d59ac771b80222ad63ef0f4ac47ade            ...               \n",
       "1a3aaeffc56dd2a421e37d8298024c0a            ...               \n",
       "33aa19ee4da4c5adf47d0dfb84fab5ef            ...               \n",
       "e31c0ea8b68f404699dfb0d39e9bc99b            ...               \n",
       "\n",
       "                                  resource_type_Trips  resource_type_Visitors  \\\n",
       "projectid                                                                       \n",
       "62526d85d2a1818432d03d600969e99c                    0                       0   \n",
       "33d59ac771b80222ad63ef0f4ac47ade                    0                       0   \n",
       "1a3aaeffc56dd2a421e37d8298024c0a                    0                       0   \n",
       "33aa19ee4da4c5adf47d0dfb84fab5ef                    0                       0   \n",
       "e31c0ea8b68f404699dfb0d39e9bc99b                    0                       0   \n",
       "\n",
       "                                  poverty_level_high poverty  \\\n",
       "projectid                                                      \n",
       "62526d85d2a1818432d03d600969e99c                           0   \n",
       "33d59ac771b80222ad63ef0f4ac47ade                           1   \n",
       "1a3aaeffc56dd2a421e37d8298024c0a                           0   \n",
       "33aa19ee4da4c5adf47d0dfb84fab5ef                           0   \n",
       "e31c0ea8b68f404699dfb0d39e9bc99b                           0   \n",
       "\n",
       "                                  poverty_level_highest poverty  \\\n",
       "projectid                                                         \n",
       "62526d85d2a1818432d03d600969e99c                              0   \n",
       "33d59ac771b80222ad63ef0f4ac47ade                              0   \n",
       "1a3aaeffc56dd2a421e37d8298024c0a                              0   \n",
       "33aa19ee4da4c5adf47d0dfb84fab5ef                              1   \n",
       "e31c0ea8b68f404699dfb0d39e9bc99b                              1   \n",
       "\n",
       "                                 poverty_level_low poverty  \\\n",
       "projectid                                                    \n",
       "62526d85d2a1818432d03d600969e99c                         0   \n",
       "33d59ac771b80222ad63ef0f4ac47ade                         0   \n",
       "1a3aaeffc56dd2a421e37d8298024c0a                         0   \n",
       "33aa19ee4da4c5adf47d0dfb84fab5ef                         0   \n",
       "e31c0ea8b68f404699dfb0d39e9bc99b                         0   \n",
       "\n",
       "                                  poverty_level_moderate poverty  \\\n",
       "projectid                                                          \n",
       "62526d85d2a1818432d03d600969e99c                               1   \n",
       "33d59ac771b80222ad63ef0f4ac47ade                               0   \n",
       "1a3aaeffc56dd2a421e37d8298024c0a                               1   \n",
       "33aa19ee4da4c5adf47d0dfb84fab5ef                               0   \n",
       "e31c0ea8b68f404699dfb0d39e9bc99b                               0   \n",
       "\n",
       "                                  grade_level_Grades 3-5  \\\n",
       "projectid                                                  \n",
       "62526d85d2a1818432d03d600969e99c                       1   \n",
       "33d59ac771b80222ad63ef0f4ac47ade                       1   \n",
       "1a3aaeffc56dd2a421e37d8298024c0a                       0   \n",
       "33aa19ee4da4c5adf47d0dfb84fab5ef                       0   \n",
       "e31c0ea8b68f404699dfb0d39e9bc99b                       0   \n",
       "\n",
       "                                  grade_level_Grades 6-8  \\\n",
       "projectid                                                  \n",
       "62526d85d2a1818432d03d600969e99c                       0   \n",
       "33d59ac771b80222ad63ef0f4ac47ade                       0   \n",
       "1a3aaeffc56dd2a421e37d8298024c0a                       1   \n",
       "33aa19ee4da4c5adf47d0dfb84fab5ef                       0   \n",
       "e31c0ea8b68f404699dfb0d39e9bc99b                       1   \n",
       "\n",
       "                                  grade_level_Grades 9-12  \\\n",
       "projectid                                                   \n",
       "62526d85d2a1818432d03d600969e99c                        0   \n",
       "33d59ac771b80222ad63ef0f4ac47ade                        0   \n",
       "1a3aaeffc56dd2a421e37d8298024c0a                        0   \n",
       "33aa19ee4da4c5adf47d0dfb84fab5ef                        0   \n",
       "e31c0ea8b68f404699dfb0d39e9bc99b                        0   \n",
       "\n",
       "                                  grade_level_Grades PreK-2  \n",
       "projectid                                                    \n",
       "62526d85d2a1818432d03d600969e99c                          0  \n",
       "33d59ac771b80222ad63ef0f4ac47ade                          0  \n",
       "1a3aaeffc56dd2a421e37d8298024c0a                          0  \n",
       "33aa19ee4da4c5adf47d0dfb84fab5ef                          1  \n",
       "e31c0ea8b68f404699dfb0d39e9bc99b                          0  \n",
       "\n",
       "[5 rows x 109 columns]"
      ]
     },
     "execution_count": 217,
     "metadata": {},
     "output_type": "execute_result"
    }
   ],
   "source": [
    "df.head()"
   ]
  },
  {
   "cell_type": "code",
   "execution_count": null,
   "metadata": {},
   "outputs": [],
   "source": []
  },
  {
   "cell_type": "markdown",
   "metadata": {},
   "source": [
    "### 5. Build Machine Learning Classifiers"
   ]
  },
  {
   "cell_type": "markdown",
   "metadata": {},
   "source": [
    "Logistic Regression, K-Nearest Neighbor, Decision Trees, SVM, Random Forests, Boosting, and Bagging"
   ]
  },
  {
   "cell_type": "code",
   "execution_count": 180,
   "metadata": {},
   "outputs": [],
   "source": [
    "clfs = {'LR': LogisticRegression(), \n",
    "        'KNN': KNeighborsClassifier(),\n",
    "        'DT': DecisionTreeClassifier(), \n",
    "        'SVM': svm.SVC(), \n",
    "        'RF': RandomForestClassifier(), \n",
    "        'GB': AdaBoostClassifier(),\n",
    "        'BAG': BaggingClassifier()}\n",
    "    \n",
    "grid = {'LR': { 'penalty': ['l1','l2'], 'C': [0.00001,0.001,0.1,1,10]},\n",
    "        'KNN' :{'n_neighbors': [1,5,10,25,50,100],'weights': ['uniform', 'distance'], 'algorithm': ['auto','ball_tree','kd_tree']},\n",
    "        'DT': {'criterion': ['gini', 'entropy'], 'max_depth': [1,5,10,20,50,100],'min_samples_split': [2,5,10]},\n",
    "        'SVM' :{'C' :[0.00001,0.0001,0.001,0.01,0.1,1,10],'kernel':['linear']},\n",
    "        'RF':{'n_estimators': [10,100], 'max_depth': [5,50], 'max_features': ['sqrt','log2'],'min_samples_split': [2,10], 'n_jobs': [-1]},\n",
    "        'AB': { 'algorithm': ['SAMME', 'SAMME.R'], 'n_estimators': [1,10,100,1000,10000]},\n",
    "        'BAG': {}}"
   ]
  },
  {
   "cell_type": "markdown",
   "metadata": {},
   "source": [
    "### 6. Create Temporal Train/Test Sets"
   ]
  },
  {
   "cell_type": "code",
   "execution_count": 232,
   "metadata": {},
   "outputs": [],
   "source": [
    "def temporal_train_test_split(df, time_col, period=None):\n",
    "    '''\n",
    "    Creates temporal train/test splits.\n",
    "    Inputs: \n",
    "        df\n",
    "        time_col (str): name of time column\n",
    "        period (str of the format '1M', '3M', '6M', etc.): how long the \n",
    "            testing period should be\n",
    "    Returns:\n",
    "        test_dfs: list of test dfs\n",
    "        train_dfs: list of training dfs\n",
    "        times: list of start times indexed to test and train lists\n",
    "    '''\n",
    "    time_starts = pd.date_range(start = df[time_col].min(), \n",
    "                                end = df[time_col].max(), freq = period)\n",
    "    times = []\n",
    "    train_sets = []\n",
    "    test_sets = []\n",
    "\n",
    "    for i, time in enumerate(time_starts[:-1]):\n",
    "        time_split = time + pd.DateOffset(1)\n",
    "        train_mask = (df[time_col] <= time)\n",
    "        test_mask = (df[time_col] > time_split) & (df[time_col] < time_starts[i+1])\n",
    "        \n",
    "        train = df.loc[train_mask]\n",
    "        train = train.drop(columns=time_col)\n",
    "        test = df.loc[test_mask]\n",
    "        test = test.drop(columns=time_col)\n",
    "\n",
    "        train_sets.append(train)\n",
    "        test_sets.append(test)\n",
    "        times.append(time)\n",
    "        \n",
    "    return train_sets, test_sets, times"
   ]
  },
  {
   "cell_type": "code",
   "execution_count": 233,
   "metadata": {},
   "outputs": [],
   "source": [
    "train_sets, test_sets, times = temporal_train_test_split(df, 'date_posted', period='6M')"
   ]
  },
  {
   "cell_type": "markdown",
   "metadata": {},
   "source": [
    "### 7. Build Classifiers"
   ]
  },
  {
   "cell_type": "code",
   "execution_count": null,
   "metadata": {},
   "outputs": [],
   "source": [
    "def plot_precision_recall(y_true, y_prob, model_name):\n",
    "    \"\"\"Adopted from: https://github.com/rayidghani/magicloops/blob/master/magicloops.py\"\"\"\n",
    "    y_score = y_prob\n",
    "    precision_curve, recall_curve, pr_thresholds = precision_recall_curve(y_true, y_score)\n",
    "    precision_curve = precision_curve[:-1]\n",
    "    recall_curve = recall_curve[:-1]\n",
    "    pct_above_per_thresh = []\n",
    "    number_scored = len(y_score)\n",
    "\n",
    "    for value in pr_thresholds:\n",
    "        num_above_thresh = len(y_score[y_score>=value])\n",
    "        pct_above_thresh = num_above_thresh / float(number_scored)\n",
    "        pct_above_per_thresh.append(pct_above_thresh)\n",
    "\n",
    "    pct_above_per_thresh = np.array(pct_above_per_thresh)\n",
    "    \n",
    "    plt.clf()\n",
    "    fig, ax1 = plt.subplots()\n",
    "    ax1.plot(pct_above_per_thresh, precision_curve, 'b')\n",
    "    ax1.set_xlabel('percent of population')\n",
    "    ax1.set_ylabel('precision', color='b')\n",
    "    ax2 = ax1.twinx()\n",
    "    ax2.plot(pct_above_per_thresh, recall_curve, 'r')\n",
    "    ax2.set_ylabel('recall', color='r')\n",
    "    ax1.set_ylim([0,1])\n",
    "    ax1.set_ylim([0,1])\n",
    "    ax2.set_xlim([0,1])\n",
    "    \n",
    "    plt.title(model_name)\n",
    "    plt.show()"
   ]
  },
  {
   "cell_type": "code",
   "execution_count": 240,
   "metadata": {},
   "outputs": [],
   "source": [
    "def precision_at_k(y_true, y_scores, k):\n",
    "    idx = np.argsort(np.array(y_scores))[::-1]\n",
    "    y_scores, y_true = np.array(y_scores)[idx], np.array(y_true)[idx]\n",
    "    cutoff_index = int(len(y_scores) * (k / 100.0))\n",
    "    preds_at_k = [1 if x < cutoff_index else 0 for x in range(len(y_scores))]\n",
    "    precision = precision_score(y_true, preds_at_k)\n",
    "    return precision"
   ]
  },
  {
   "cell_type": "code",
   "execution_count": 237,
   "metadata": {},
   "outputs": [],
   "source": [
    "def clfs_loop(models, clfs, grid, X_train, X_test, y_train, y_test, plot=True):\n",
    "    \"\"\"\n",
    "    Runs each model in models and calculates the AUC-ROC score, \n",
    "    calculates precision at 1%, 5%, 10%, 20%, 30%, and 50%,\n",
    "    and plots the precision-recall curve.\n",
    "    Inputs:\n",
    "        models\n",
    "        clfs\n",
    "        grid\n",
    "        X\n",
    "        y\n",
    "        plot\n",
    "    Returns: results_df: a DataFrame of results\n",
    "    \"\"\"\n",
    "    results_df =  pd.DataFrame(columns=('model_type', 'clf', 'parameters', 'auc-roc',\n",
    "                                        'p_at_1', 'p_at_2', 'p_at_5',\n",
    "                                        'p_at_10', 'p_at_20', 'p_at_30', 'p_at_50'))\n",
    "        \n",
    "    for i, clf in enumerate([clfs[m] for m in models]):\n",
    "        print(models[i])\n",
    "        params = grid[models[i]]\n",
    "        for p in ParameterGrid(params):\n",
    "            try:\n",
    "                clf.set_params(**p)\n",
    "                y_pred_probs = clf.fit(X_train, y_train).predict_proba(X_test)[:,1]\n",
    "                y_pred_probs_sorted, y_test_sorted = zip(*sorted(zip(y_pred_probs, y_test), reverse=True))\n",
    "                results_df.loc[len(results_df)] = [models[i], clf, p,\n",
    "                                                   roc_auc_score(y_test, y_pred_probs),\n",
    "                                                   precision_at_k(y_test_sorted,y_pred_probs_sorted,1.0),\n",
    "                                                   precision_at_k(y_test_sorted,y_pred_probs_sorted,2.0),\n",
    "                                                   precision_at_k(y_test_sorted,y_pred_probs_sorted,5.0),\n",
    "                                                   precision_at_k(y_test_sorted,y_pred_probs_sorted,10.0),\n",
    "                                                   precision_at_k(y_test_sorted,y_pred_probs_sorted,20.0),\n",
    "                                                   precision_at_k(y_test_sorted,y_pred_probs_sorted,30.0),\n",
    "                                                   precision_at_k(y_test_sorted,y_pred_probs_sorted,50.0)]\n",
    "                if plot:\n",
    "                    plot_precision_recall(y_test, y_pred_probs, clf)\n",
    "        \n",
    "            except IndexError as e:\n",
    "                print('Error:', e)\n",
    "                continue\n",
    "    return results_df"
   ]
  },
  {
   "cell_type": "markdown",
   "metadata": {},
   "source": [
    "## 8. Evaluate Models"
   ]
  },
  {
   "cell_type": "code",
   "execution_count": 238,
   "metadata": {},
   "outputs": [],
   "source": [
    "def clfs_loop_temporal(train_sets, test_sets, models):\n",
    "    for i in range(len(train_sets)):\n",
    "        train = train_sets[i]\n",
    "        test = test_sets[i]\n",
    "\n",
    "        y_train = train['fully_funded']\n",
    "        X_train = train.drop(columns='fully_funded')\n",
    "        y_test = test['fully_funded']\n",
    "        X_test = test.drop(columns='fully_funded')\n",
    "\n",
    "        results = clfs_loop(models, clfs, grid, X_train, X_test, y_train, y_test)\n",
    "        print(results)"
   ]
  },
  {
   "cell_type": "code",
   "execution_count": 246,
   "metadata": {
    "scrolled": false
   },
   "outputs": [
    {
     "name": "stdout",
     "output_type": "stream",
     "text": [
      "LR\n",
      "  model_type                                                clf  \\\n",
      "0         LR  LogisticRegression(C=10, class_weight=None, du...   \n",
      "1         LR  LogisticRegression(C=10, class_weight=None, du...   \n",
      "2         LR  LogisticRegression(C=10, class_weight=None, du...   \n",
      "3         LR  LogisticRegression(C=10, class_weight=None, du...   \n",
      "4         LR  LogisticRegression(C=10, class_weight=None, du...   \n",
      "5         LR  LogisticRegression(C=10, class_weight=None, du...   \n",
      "6         LR  LogisticRegression(C=10, class_weight=None, du...   \n",
      "7         LR  LogisticRegression(C=10, class_weight=None, du...   \n",
      "8         LR  LogisticRegression(C=10, class_weight=None, du...   \n",
      "9         LR  LogisticRegression(C=10, class_weight=None, du...   \n",
      "\n",
      "                      parameters   auc-roc    p_at_1    p_at_2    p_at_5  \\\n",
      "0  {'C': 1e-05, 'penalty': 'l1'}  0.358020  0.223776  0.273893  0.368593   \n",
      "1  {'C': 1e-05, 'penalty': 'l2'}  0.640687  0.766900  0.806527  0.808015   \n",
      "2  {'C': 0.001, 'penalty': 'l1'}  0.645892  0.836830  0.853147  0.841100   \n",
      "3  {'C': 0.001, 'penalty': 'l2'}  0.673173  0.932401  0.912587  0.883970   \n",
      "4    {'C': 0.1, 'penalty': 'l1'}  0.664406  0.925408  0.911422  0.867195   \n",
      "5    {'C': 0.1, 'penalty': 'l2'}  0.666546  0.927739  0.906760  0.864865   \n",
      "6      {'C': 1, 'penalty': 'l1'}  0.666147  0.923077  0.903263  0.866263   \n",
      "7      {'C': 1, 'penalty': 'l2'}  0.666355  0.930070  0.898601  0.863933   \n",
      "8     {'C': 10, 'penalty': 'l1'}  0.665946  0.923077  0.895105  0.861603   \n",
      "9     {'C': 10, 'penalty': 'l2'}  0.666102  0.925408  0.898601  0.864399   \n",
      "\n",
      "    p_at_10   p_at_20   p_at_30   p_at_50  \n",
      "0  0.394921  0.433896  0.464591  0.499394  \n",
      "1  0.790774  0.764473  0.736683  0.694605  \n",
      "2  0.821761  0.773791  0.744293  0.695164  \n",
      "3  0.846226  0.796156  0.763317  0.714732  \n",
      "4  0.824324  0.779266  0.742662  0.706439  \n",
      "5  0.825256  0.780431  0.748253  0.709001  \n",
      "6  0.823159  0.781829  0.747554  0.707603  \n",
      "7  0.822693  0.782295  0.749029  0.708116  \n",
      "8  0.822926  0.782411  0.747709  0.707417  \n",
      "9  0.822693  0.783227  0.747787  0.707277  \n",
      "LR\n",
      "  model_type                                                clf  \\\n",
      "0         LR  LogisticRegression(C=10, class_weight=None, du...   \n",
      "1         LR  LogisticRegression(C=10, class_weight=None, du...   \n",
      "2         LR  LogisticRegression(C=10, class_weight=None, du...   \n",
      "3         LR  LogisticRegression(C=10, class_weight=None, du...   \n",
      "4         LR  LogisticRegression(C=10, class_weight=None, du...   \n",
      "5         LR  LogisticRegression(C=10, class_weight=None, du...   \n",
      "6         LR  LogisticRegression(C=10, class_weight=None, du...   \n",
      "7         LR  LogisticRegression(C=10, class_weight=None, du...   \n",
      "8         LR  LogisticRegression(C=10, class_weight=None, du...   \n",
      "9         LR  LogisticRegression(C=10, class_weight=None, du...   \n",
      "\n",
      "                      parameters   auc-roc    p_at_1    p_at_2    p_at_5  \\\n",
      "0  {'C': 1e-05, 'penalty': 'l1'}  0.614333  0.821981  0.792730  0.787879   \n",
      "1  {'C': 1e-05, 'penalty': 'l2'}  0.618079  0.910217  0.899459  0.851886   \n",
      "2  {'C': 0.001, 'penalty': 'l1'}  0.632682  0.939628  0.911833  0.879406   \n",
      "3  {'C': 0.001, 'penalty': 'l2'}  0.665792  0.888545  0.906419  0.900433   \n",
      "4    {'C': 0.1, 'penalty': 'l1'}  0.677824  0.899381  0.897138  0.899505   \n",
      "5    {'C': 0.1, 'penalty': 'l2'}  0.677215  0.902477  0.901779  0.896722   \n",
      "6      {'C': 1, 'penalty': 'l1'}  0.677381  0.907121  0.904872  0.896722   \n",
      "7      {'C': 1, 'penalty': 'l2'}  0.677166  0.905573  0.904099  0.896722   \n",
      "8     {'C': 10, 'penalty': 'l1'}  0.677180  0.907121  0.904872  0.896413   \n",
      "9     {'C': 10, 'penalty': 'l2'}  0.677339  0.907121  0.904872  0.896104   \n",
      "\n",
      "    p_at_10   p_at_20   p_at_30   p_at_50  \n",
      "0  0.812152  0.839453  0.833033  0.817024  \n",
      "1  0.830860  0.831105  0.832569  0.818075  \n",
      "2  0.852195  0.843936  0.837671  0.825001  \n",
      "3  0.890383  0.877329  0.863283  0.843057  \n",
      "4  0.896104  0.884363  0.873435  0.848190  \n",
      "5  0.895022  0.884595  0.874105  0.848468  \n",
      "6  0.895640  0.885445  0.874362  0.848344  \n",
      "7  0.895485  0.884595  0.874208  0.848375  \n",
      "8  0.896413  0.884749  0.874414  0.848252  \n",
      "9  0.896104  0.884904  0.874105  0.848375  \n",
      "LR\n"
     ]
    },
    {
     "ename": "KeyboardInterrupt",
     "evalue": "",
     "output_type": "error",
     "traceback": [
      "\u001b[1;31m---------------------------------------------------------------------------\u001b[0m",
      "\u001b[1;31mKeyboardInterrupt\u001b[0m                         Traceback (most recent call last)",
      "\u001b[1;32m<ipython-input-246-a0eae0044709>\u001b[0m in \u001b[0;36m<module>\u001b[1;34m()\u001b[0m\n\u001b[0;32m      1\u001b[0m \u001b[0mmodels\u001b[0m \u001b[1;33m=\u001b[0m \u001b[1;33m[\u001b[0m\u001b[1;34m'LR'\u001b[0m\u001b[1;33m]\u001b[0m\u001b[1;31m#, 'KNN', 'DT', 'SVM', 'RF', 'GB', 'BAG']\u001b[0m\u001b[1;33m\u001b[0m\u001b[0m\n\u001b[1;32m----> 2\u001b[1;33m \u001b[0mclfs_loop_temporal\u001b[0m\u001b[1;33m(\u001b[0m\u001b[0mtrain_sets\u001b[0m\u001b[1;33m,\u001b[0m \u001b[0mtest_sets\u001b[0m\u001b[1;33m,\u001b[0m \u001b[0mmodels\u001b[0m\u001b[1;33m)\u001b[0m\u001b[1;33m\u001b[0m\u001b[0m\n\u001b[0m",
      "\u001b[1;32m<ipython-input-238-61b341b7f58e>\u001b[0m in \u001b[0;36mclfs_loop_temporal\u001b[1;34m(train_sets, test_sets, models)\u001b[0m\n\u001b[0;32m      9\u001b[0m         \u001b[0mX_test\u001b[0m \u001b[1;33m=\u001b[0m \u001b[0mtest\u001b[0m\u001b[1;33m.\u001b[0m\u001b[0mdrop\u001b[0m\u001b[1;33m(\u001b[0m\u001b[0mcolumns\u001b[0m\u001b[1;33m=\u001b[0m\u001b[1;34m'fully_funded'\u001b[0m\u001b[1;33m)\u001b[0m\u001b[1;33m\u001b[0m\u001b[0m\n\u001b[0;32m     10\u001b[0m \u001b[1;33m\u001b[0m\u001b[0m\n\u001b[1;32m---> 11\u001b[1;33m         \u001b[0mresults\u001b[0m \u001b[1;33m=\u001b[0m \u001b[0mclfs_loop\u001b[0m\u001b[1;33m(\u001b[0m\u001b[0mmodels\u001b[0m\u001b[1;33m,\u001b[0m \u001b[0mclfs\u001b[0m\u001b[1;33m,\u001b[0m \u001b[0mgrid\u001b[0m\u001b[1;33m,\u001b[0m \u001b[0mX_train\u001b[0m\u001b[1;33m,\u001b[0m \u001b[0mX_test\u001b[0m\u001b[1;33m,\u001b[0m \u001b[0my_train\u001b[0m\u001b[1;33m,\u001b[0m \u001b[0my_test\u001b[0m\u001b[1;33m)\u001b[0m\u001b[1;33m\u001b[0m\u001b[0m\n\u001b[0m\u001b[0;32m     12\u001b[0m         \u001b[0mprint\u001b[0m\u001b[1;33m(\u001b[0m\u001b[0mresults\u001b[0m\u001b[1;33m)\u001b[0m\u001b[1;33m\u001b[0m\u001b[0m\n",
      "\u001b[1;32m<ipython-input-237-cde68a5c33d4>\u001b[0m in \u001b[0;36mclfs_loop\u001b[1;34m(models, clfs, grid, X_train, X_test, y_train, y_test, plot)\u001b[0m\n\u001b[0;32m     23\u001b[0m             \u001b[1;32mtry\u001b[0m\u001b[1;33m:\u001b[0m\u001b[1;33m\u001b[0m\u001b[0m\n\u001b[0;32m     24\u001b[0m                 \u001b[0mclf\u001b[0m\u001b[1;33m.\u001b[0m\u001b[0mset_params\u001b[0m\u001b[1;33m(\u001b[0m\u001b[1;33m**\u001b[0m\u001b[0mp\u001b[0m\u001b[1;33m)\u001b[0m\u001b[1;33m\u001b[0m\u001b[0m\n\u001b[1;32m---> 25\u001b[1;33m                 \u001b[0my_pred_probs\u001b[0m \u001b[1;33m=\u001b[0m \u001b[0mclf\u001b[0m\u001b[1;33m.\u001b[0m\u001b[0mfit\u001b[0m\u001b[1;33m(\u001b[0m\u001b[0mX_train\u001b[0m\u001b[1;33m,\u001b[0m \u001b[0my_train\u001b[0m\u001b[1;33m)\u001b[0m\u001b[1;33m.\u001b[0m\u001b[0mpredict_proba\u001b[0m\u001b[1;33m(\u001b[0m\u001b[0mX_test\u001b[0m\u001b[1;33m)\u001b[0m\u001b[1;33m[\u001b[0m\u001b[1;33m:\u001b[0m\u001b[1;33m,\u001b[0m\u001b[1;36m1\u001b[0m\u001b[1;33m]\u001b[0m\u001b[1;33m\u001b[0m\u001b[0m\n\u001b[0m\u001b[0;32m     26\u001b[0m                 \u001b[0my_pred_probs_sorted\u001b[0m\u001b[1;33m,\u001b[0m \u001b[0my_test_sorted\u001b[0m \u001b[1;33m=\u001b[0m \u001b[0mzip\u001b[0m\u001b[1;33m(\u001b[0m\u001b[1;33m*\u001b[0m\u001b[0msorted\u001b[0m\u001b[1;33m(\u001b[0m\u001b[0mzip\u001b[0m\u001b[1;33m(\u001b[0m\u001b[0my_pred_probs\u001b[0m\u001b[1;33m,\u001b[0m \u001b[0my_test\u001b[0m\u001b[1;33m)\u001b[0m\u001b[1;33m,\u001b[0m \u001b[0mreverse\u001b[0m\u001b[1;33m=\u001b[0m\u001b[1;32mTrue\u001b[0m\u001b[1;33m)\u001b[0m\u001b[1;33m)\u001b[0m\u001b[1;33m\u001b[0m\u001b[0m\n\u001b[0;32m     27\u001b[0m                 results_df.loc[len(results_df)] = [models[i], clf, p,\n",
      "\u001b[1;32m~\\Anaconda3\\lib\\site-packages\\sklearn\\linear_model\\logistic.py\u001b[0m in \u001b[0;36mfit\u001b[1;34m(self, X, y, sample_weight)\u001b[0m\n\u001b[0;32m   1231\u001b[0m                 \u001b[0mself\u001b[0m\u001b[1;33m.\u001b[0m\u001b[0mclass_weight\u001b[0m\u001b[1;33m,\u001b[0m \u001b[0mself\u001b[0m\u001b[1;33m.\u001b[0m\u001b[0mpenalty\u001b[0m\u001b[1;33m,\u001b[0m \u001b[0mself\u001b[0m\u001b[1;33m.\u001b[0m\u001b[0mdual\u001b[0m\u001b[1;33m,\u001b[0m \u001b[0mself\u001b[0m\u001b[1;33m.\u001b[0m\u001b[0mverbose\u001b[0m\u001b[1;33m,\u001b[0m\u001b[1;33m\u001b[0m\u001b[0m\n\u001b[0;32m   1232\u001b[0m                 \u001b[0mself\u001b[0m\u001b[1;33m.\u001b[0m\u001b[0mmax_iter\u001b[0m\u001b[1;33m,\u001b[0m \u001b[0mself\u001b[0m\u001b[1;33m.\u001b[0m\u001b[0mtol\u001b[0m\u001b[1;33m,\u001b[0m \u001b[0mself\u001b[0m\u001b[1;33m.\u001b[0m\u001b[0mrandom_state\u001b[0m\u001b[1;33m,\u001b[0m\u001b[1;33m\u001b[0m\u001b[0m\n\u001b[1;32m-> 1233\u001b[1;33m                 sample_weight=sample_weight)\n\u001b[0m\u001b[0;32m   1234\u001b[0m             \u001b[0mself\u001b[0m\u001b[1;33m.\u001b[0m\u001b[0mn_iter_\u001b[0m \u001b[1;33m=\u001b[0m \u001b[0mnp\u001b[0m\u001b[1;33m.\u001b[0m\u001b[0marray\u001b[0m\u001b[1;33m(\u001b[0m\u001b[1;33m[\u001b[0m\u001b[0mn_iter_\u001b[0m\u001b[1;33m]\u001b[0m\u001b[1;33m)\u001b[0m\u001b[1;33m\u001b[0m\u001b[0m\n\u001b[0;32m   1235\u001b[0m             \u001b[1;32mreturn\u001b[0m \u001b[0mself\u001b[0m\u001b[1;33m\u001b[0m\u001b[0m\n",
      "\u001b[1;32m~\\Anaconda3\\lib\\site-packages\\sklearn\\svm\\base.py\u001b[0m in \u001b[0;36m_fit_liblinear\u001b[1;34m(X, y, C, fit_intercept, intercept_scaling, class_weight, penalty, dual, verbose, max_iter, tol, random_state, multi_class, loss, epsilon, sample_weight)\u001b[0m\n\u001b[0;32m    888\u001b[0m         \u001b[0mX\u001b[0m\u001b[1;33m,\u001b[0m \u001b[0my_ind\u001b[0m\u001b[1;33m,\u001b[0m \u001b[0msp\u001b[0m\u001b[1;33m.\u001b[0m\u001b[0misspmatrix\u001b[0m\u001b[1;33m(\u001b[0m\u001b[0mX\u001b[0m\u001b[1;33m)\u001b[0m\u001b[1;33m,\u001b[0m \u001b[0msolver_type\u001b[0m\u001b[1;33m,\u001b[0m \u001b[0mtol\u001b[0m\u001b[1;33m,\u001b[0m \u001b[0mbias\u001b[0m\u001b[1;33m,\u001b[0m \u001b[0mC\u001b[0m\u001b[1;33m,\u001b[0m\u001b[1;33m\u001b[0m\u001b[0m\n\u001b[0;32m    889\u001b[0m         \u001b[0mclass_weight_\u001b[0m\u001b[1;33m,\u001b[0m \u001b[0mmax_iter\u001b[0m\u001b[1;33m,\u001b[0m \u001b[0mrnd\u001b[0m\u001b[1;33m.\u001b[0m\u001b[0mrandint\u001b[0m\u001b[1;33m(\u001b[0m\u001b[0mnp\u001b[0m\u001b[1;33m.\u001b[0m\u001b[0miinfo\u001b[0m\u001b[1;33m(\u001b[0m\u001b[1;34m'i'\u001b[0m\u001b[1;33m)\u001b[0m\u001b[1;33m.\u001b[0m\u001b[0mmax\u001b[0m\u001b[1;33m)\u001b[0m\u001b[1;33m,\u001b[0m\u001b[1;33m\u001b[0m\u001b[0m\n\u001b[1;32m--> 890\u001b[1;33m         epsilon, sample_weight)\n\u001b[0m\u001b[0;32m    891\u001b[0m     \u001b[1;31m# Regarding rnd.randint(..) in the above signature:\u001b[0m\u001b[1;33m\u001b[0m\u001b[1;33m\u001b[0m\u001b[0m\n\u001b[0;32m    892\u001b[0m     \u001b[1;31m# seed for srand in range [0..INT_MAX); due to limitations in Numpy\u001b[0m\u001b[1;33m\u001b[0m\u001b[1;33m\u001b[0m\u001b[0m\n",
      "\u001b[1;31mKeyboardInterrupt\u001b[0m: "
     ]
    },
    {
     "data": {
      "text/plain": [
       "<matplotlib.figure.Figure at 0x1e7219f4860>"
      ]
     },
     "metadata": {},
     "output_type": "display_data"
    },
    {
     "data": {
      "text/plain": [
       "<matplotlib.figure.Figure at 0x1e70cc546a0>"
      ]
     },
     "metadata": {},
     "output_type": "display_data"
    },
    {
     "data": {
      "text/plain": [
       "<matplotlib.figure.Figure at 0x1e746952e10>"
      ]
     },
     "metadata": {},
     "output_type": "display_data"
    },
    {
     "data": {
      "text/plain": [
       "<matplotlib.figure.Figure at 0x1e76ba09dd8>"
      ]
     },
     "metadata": {},
     "output_type": "display_data"
    },
    {
     "data": {
      "text/plain": [
       "<matplotlib.figure.Figure at 0x1e78944e278>"
      ]
     },
     "metadata": {},
     "output_type": "display_data"
    },
    {
     "data": {
      "text/plain": [
       "<matplotlib.figure.Figure at 0x1e78978a898>"
      ]
     },
     "metadata": {},
     "output_type": "display_data"
    },
    {
     "data": {
      "text/plain": [
       "<matplotlib.figure.Figure at 0x1e78977aa58>"
      ]
     },
     "metadata": {},
     "output_type": "display_data"
    },
    {
     "data": {
      "text/plain": [
       "<matplotlib.figure.Figure at 0x1e78ec3e278>"
      ]
     },
     "metadata": {},
     "output_type": "display_data"
    },
    {
     "data": {
      "text/plain": [
       "<matplotlib.figure.Figure at 0x1e78faacbe0>"
      ]
     },
     "metadata": {},
     "output_type": "display_data"
    },
    {
     "data": {
      "text/plain": [
       "<matplotlib.figure.Figure at 0x1e76d045128>"
      ]
     },
     "metadata": {},
     "output_type": "display_data"
    },
    {
     "data": {
      "text/plain": [
       "<matplotlib.figure.Figure at 0x1e76cff5668>"
      ]
     },
     "metadata": {},
     "output_type": "display_data"
    },
    {
     "data": {
      "text/plain": [
       "<matplotlib.figure.Figure at 0x1e709ee8ba8>"
      ]
     },
     "metadata": {},
     "output_type": "display_data"
    },
    {
     "data": {
      "text/plain": [
       "<matplotlib.figure.Figure at 0x1e745465e10>"
      ]
     },
     "metadata": {},
     "output_type": "display_data"
    },
    {
     "data": {
      "text/plain": [
       "<matplotlib.figure.Figure at 0x1e7224b25c0>"
      ]
     },
     "metadata": {},
     "output_type": "display_data"
    },
    {
     "data": {
      "text/plain": [
       "<matplotlib.figure.Figure at 0x1e746a96e80>"
      ]
     },
     "metadata": {},
     "output_type": "display_data"
    },
    {
     "data": {
      "text/plain": [
       "<matplotlib.figure.Figure at 0x1e721c29c88>"
      ]
     },
     "metadata": {},
     "output_type": "display_data"
    },
    {
     "data": {
      "text/plain": [
       "<matplotlib.figure.Figure at 0x1e76d047278>"
      ]
     },
     "metadata": {},
     "output_type": "display_data"
    },
    {
     "data": {
      "text/plain": [
       "<matplotlib.figure.Figure at 0x1e789454780>"
      ]
     },
     "metadata": {},
     "output_type": "display_data"
    },
    {
     "data": {
      "text/plain": [
       "<matplotlib.figure.Figure at 0x1e722295a58>"
      ]
     },
     "metadata": {},
     "output_type": "display_data"
    },
    {
     "data": {
      "text/plain": [
       "<matplotlib.figure.Figure at 0x1e78ec3e9b0>"
      ]
     },
     "metadata": {},
     "output_type": "display_data"
    },
    {
     "data": {
      "text/plain": [
       "<matplotlib.figure.Figure at 0x1e76d045550>"
      ]
     },
     "metadata": {},
     "output_type": "display_data"
    },
    {
     "data": {
      "text/plain": [
       "<matplotlib.figure.Figure at 0x1e76d03f240>"
      ]
     },
     "metadata": {},
     "output_type": "display_data"
    },
    {
     "data": {
      "text/plain": [
       "<matplotlib.figure.Figure at 0x1e746a96470>"
      ]
     },
     "metadata": {},
     "output_type": "display_data"
    },
    {
     "data": {
      "text/plain": [
       "<matplotlib.figure.Figure at 0x1e78899e048>"
      ]
     },
     "metadata": {},
     "output_type": "display_data"
    },
    {
     "data": {
      "text/plain": [
       "<matplotlib.figure.Figure at 0x1e746a93a58>"
      ]
     },
     "metadata": {},
     "output_type": "display_data"
    },
    {
     "data": {
      "text/plain": [
       "<matplotlib.figure.Figure at 0x1e70cc54b38>"
      ]
     },
     "metadata": {},
     "output_type": "display_data"
    },
    {
     "data": {
      "text/plain": [
       "<matplotlib.figure.Figure at 0x1e72222afd0>"
      ]
     },
     "metadata": {},
     "output_type": "display_data"
    },
    {
     "data": {
      "image/png": "[encoded data removed]",
      "text/plain": [
       "<matplotlib.figure.Figure at 0x1e7887c7470>"
      ]
     },
     "metadata": {},
     "output_type": "display_data"
    }
   ],
   "source": [
    "models = ['LR', 'KNN', 'DT', 'SVM', 'RF', 'GB', 'BAG']\n",
    "results_df = clfs_loop_temporal(train_sets, test_sets, models)"
   ]
  },
  {
   "cell_type": "code",
   "execution_count": null,
   "metadata": {},
   "outputs": [],
   "source": []
  }
 ],
 "metadata": {
  "kernelspec": {
   "display_name": "Python 3",
   "language": "python",
   "name": "python3"
  },
  "language_info": {
   "codemirror_mode": {
    "name": "ipython",
    "version": 3
   },
   "file_extension": ".py",
   "mimetype": "text/x-python",
   "name": "python",
   "nbconvert_exporter": "python",
   "pygments_lexer": "ipython3",
   "version": "3.6.4"
  }
 },
 "nbformat": 4,
 "nbformat_minor": 2
}
