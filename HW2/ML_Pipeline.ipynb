{
 "cells": [
  {
   "cell_type": "markdown",
   "metadata": {},
   "source": [
    "<center> <h1> Homework 2 – Machine Learning Pipeline <h1> </center>\n",
    "### Goal:\n",
    "The goal of this assignment is to build a simple, modular, extensible, machine learning\n",
    "pipeline in Python. The pipeline should have functions that can do the following tasks:\n",
    "1. Read/Load Data\n",
    "2. Explore Data\n",
    "3. Pre-Process and Clean Data\n",
    "4. Generate Features/Predictors\n",
    "5. Build Machine Learning Classifier\n",
    "6. Evaluate Classifier"
   ]
  },
  {
   "cell_type": "code",
   "execution_count": 3,
   "metadata": {},
   "outputs": [
    {
     "name": "stderr",
     "output_type": "stream",
     "text": [
      "C:\\Users\\roseg\\Anaconda3\\lib\\site-packages\\statsmodels\\compat\\pandas.py:56: FutureWarning: The pandas.core.datetools module is deprecated and will be removed in a future version. Please use the pandas.tseries module instead.\n",
      "  from pandas.core import datetools\n"
     ]
    }
   ],
   "source": [
    "import pandas as pd\n",
    "import numpy as np\n",
    "import seaborn as sns\n",
    "from scipy.stats import norm, lognorm\n",
    "import statsmodels.api as sm\n",
    "import matplotlib.mlab as mlab\n",
    "import matplotlib.pyplot as plt\n",
    "%matplotlib inline\n",
    "\n",
    "from sklearn import tree, linear_model\n",
    "from sklearn.model_selection import train_test_split, KFold, cross_val_score"
   ]
  },
  {
   "cell_type": "code",
   "execution_count": 4,
   "metadata": {},
   "outputs": [],
   "source": [
    "# Supress unnecessary warnings\n",
    "import warnings\n",
    "warnings.filterwarnings('ignore')"
   ]
  },
  {
   "cell_type": "markdown",
   "metadata": {},
   "source": [
    "## 1. Load Data"
   ]
  },
  {
   "cell_type": "code",
   "execution_count": 5,
   "metadata": {},
   "outputs": [],
   "source": [
    "def load_data(filename, verbose=False):\n",
    "    df = pd.read_csv(filename, index_col=0)\n",
    "    if verbose:\n",
    "        print('Dataset shape:', df.shape)\n",
    "        print('Dataset columns:', df.columns)\n",
    "        print('Dataset types:', df.dtypes)\n",
    "        print('')\n",
    "    return df"
   ]
  },
  {
   "cell_type": "code",
   "execution_count": 4,
   "metadata": {
    "collapsed": true
   },
   "outputs": [],
   "source": [
    "def load_data_dictionary(filename):\n",
    "    df = pd.read_excel('GiveMeSomeCredit/Data%20Dictionary.xls')\n",
    "    pd.set_option('display.max_colwidth', -1)\n",
    "    return df"
   ]
  },
  {
   "cell_type": "code",
   "execution_count": 5,
   "metadata": {},
   "outputs": [
    {
     "data": {
      "text/html": [
       "<div>\n",
       "<style>\n",
       "    .dataframe thead tr:only-child th {\n",
       "        text-align: right;\n",
       "    }\n",
       "\n",
       "    .dataframe thead th {\n",
       "        text-align: left;\n",
       "    }\n",
       "\n",
       "    .dataframe tbody tr th {\n",
       "        vertical-align: top;\n",
       "    }\n",
       "</style>\n",
       "<table border=\"1\" class=\"dataframe\">\n",
       "  <thead>\n",
       "    <tr style=\"text-align: right;\">\n",
       "      <th></th>\n",
       "      <th>Variable Name</th>\n",
       "      <th>Description</th>\n",
       "      <th>Type</th>\n",
       "    </tr>\n",
       "  </thead>\n",
       "  <tbody>\n",
       "    <tr>\n",
       "      <th>0</th>\n",
       "      <td>SeriousDlqin2yrs</td>\n",
       "      <td>Person experienced 90 days past due delinquency or worse</td>\n",
       "      <td>Y/N</td>\n",
       "    </tr>\n",
       "    <tr>\n",
       "      <th>1</th>\n",
       "      <td>RevolvingUtilizationOfUnsecuredLines</td>\n",
       "      <td>Total balance on credit cards and personal lines of credit except real estate and no installment debt like car loans divided by the sum of credit limits</td>\n",
       "      <td>percentage</td>\n",
       "    </tr>\n",
       "    <tr>\n",
       "      <th>2</th>\n",
       "      <td>age</td>\n",
       "      <td>Age of borrower in years</td>\n",
       "      <td>integer</td>\n",
       "    </tr>\n",
       "    <tr>\n",
       "      <th>3</th>\n",
       "      <td>NumberOfTime30-59DaysPastDueNotWorse</td>\n",
       "      <td>Number of times borrower has been 30-59 days past due but no worse in the last 2 years.</td>\n",
       "      <td>integer</td>\n",
       "    </tr>\n",
       "    <tr>\n",
       "      <th>4</th>\n",
       "      <td>DebtRatio</td>\n",
       "      <td>Monthly debt payments, alimony,living costs divided by monthy gross income</td>\n",
       "      <td>percentage</td>\n",
       "    </tr>\n",
       "    <tr>\n",
       "      <th>5</th>\n",
       "      <td>MonthlyIncome</td>\n",
       "      <td>Monthly income</td>\n",
       "      <td>real</td>\n",
       "    </tr>\n",
       "    <tr>\n",
       "      <th>6</th>\n",
       "      <td>NumberOfOpenCreditLinesAndLoans</td>\n",
       "      <td>Number of Open loans (installment like car loan or mortgage) and Lines of credit (e.g. credit cards)</td>\n",
       "      <td>integer</td>\n",
       "    </tr>\n",
       "    <tr>\n",
       "      <th>7</th>\n",
       "      <td>NumberOfTimes90DaysLate</td>\n",
       "      <td>Number of times borrower has been 90 days or more past due.</td>\n",
       "      <td>integer</td>\n",
       "    </tr>\n",
       "    <tr>\n",
       "      <th>8</th>\n",
       "      <td>NumberRealEstateLoansOrLines</td>\n",
       "      <td>Number of mortgage and real estate loans including home equity lines of credit</td>\n",
       "      <td>integer</td>\n",
       "    </tr>\n",
       "    <tr>\n",
       "      <th>9</th>\n",
       "      <td>NumberOfTime60-89DaysPastDueNotWorse</td>\n",
       "      <td>Number of times borrower has been 60-89 days past due but no worse in the last 2 years.</td>\n",
       "      <td>integer</td>\n",
       "    </tr>\n",
       "    <tr>\n",
       "      <th>10</th>\n",
       "      <td>NumberOfDependents</td>\n",
       "      <td>Number of dependents in family excluding themselves (spouse, children etc.)</td>\n",
       "      <td>integer</td>\n",
       "    </tr>\n",
       "  </tbody>\n",
       "</table>\n",
       "</div>"
      ],
      "text/plain": [
       "                           Variable Name  \\\n",
       "0   SeriousDlqin2yrs                       \n",
       "1   RevolvingUtilizationOfUnsecuredLines   \n",
       "2   age                                    \n",
       "3   NumberOfTime30-59DaysPastDueNotWorse   \n",
       "4   DebtRatio                              \n",
       "5   MonthlyIncome                          \n",
       "6   NumberOfOpenCreditLinesAndLoans        \n",
       "7   NumberOfTimes90DaysLate                \n",
       "8   NumberRealEstateLoansOrLines           \n",
       "9   NumberOfTime60-89DaysPastDueNotWorse   \n",
       "10  NumberOfDependents                     \n",
       "\n",
       "                                                                                                                                                 Description  \\\n",
       "0   Person experienced 90 days past due delinquency or worse                                                                                                   \n",
       "1   Total balance on credit cards and personal lines of credit except real estate and no installment debt like car loans divided by the sum of credit limits   \n",
       "2   Age of borrower in years                                                                                                                                   \n",
       "3   Number of times borrower has been 30-59 days past due but no worse in the last 2 years.                                                                    \n",
       "4   Monthly debt payments, alimony,living costs divided by monthy gross income                                                                                 \n",
       "5   Monthly income                                                                                                                                             \n",
       "6   Number of Open loans (installment like car loan or mortgage) and Lines of credit (e.g. credit cards)                                                       \n",
       "7   Number of times borrower has been 90 days or more past due.                                                                                                \n",
       "8   Number of mortgage and real estate loans including home equity lines of credit                                                                             \n",
       "9   Number of times borrower has been 60-89 days past due but no worse in the last 2 years.                                                                    \n",
       "10  Number of dependents in family excluding themselves (spouse, children etc.)                                                                                \n",
       "\n",
       "          Type  \n",
       "0   Y/N         \n",
       "1   percentage  \n",
       "2   integer     \n",
       "3   integer     \n",
       "4   percentage  \n",
       "5   real        \n",
       "6   integer     \n",
       "7   integer     \n",
       "8   integer     \n",
       "9   integer     \n",
       "10  integer     "
      ]
     },
     "execution_count": 5,
     "metadata": {},
     "output_type": "execute_result"
    }
   ],
   "source": [
    "load_data_dictionary('GiveMeSomeCredit/Data%20Dictionary.xls')"
   ]
  },
  {
   "cell_type": "markdown",
   "metadata": {},
   "source": [
    "## 2. Explore Data"
   ]
  },
  {
   "cell_type": "markdown",
   "metadata": {},
   "source": [
    "#### Check target variable distribution\n",
    "If target variable is skewed, the regression predictions will be similarly skewed. If skewed, transform the target variable."
   ]
  },
  {
   "cell_type": "code",
   "execution_count": 94,
   "metadata": {
    "collapsed": true
   },
   "outputs": [],
   "source": [
    "def histogram(df, target, bins, xmin, xmax, ymin, ymax):\n",
    "    '''\n",
    "    Create histogram of target variable\n",
    "    '''\n",
    "    plt.figure(figsize=(7,5))\n",
    "    n, bins, patches = plt.hist(df[target], bins=bins, alpha=0.75, color='grey')\n",
    "    \n",
    "    # plot histogram\n",
    "    plt.xlabel(target)\n",
    "    plt.ylabel('Probability')\n",
    "    plt.title('Histogram of ' + target)\n",
    "    plt.axis([xmin, xmax, ymin, ymax])\n",
    "    plt.grid(True)\n",
    "    plt.show()   "
   ]
  },
  {
   "cell_type": "code",
   "execution_count": 93,
   "metadata": {},
   "outputs": [
    {
     "data": {
      "image/png": "[encoded data removed]",
      "text/plain": [
       "<matplotlib.figure.Figure at 0x1f21ff3bb00>"
      ]
     },
     "metadata": {},
     "output_type": "display_data"
    }
   ],
   "source": [
    "histogram(train_df, 'SeriousDlqin2yrs', bins=30, xmin=-0.5, xmax=1.5, ymin=0, ymax=150000)"
   ]
  },
  {
   "cell_type": "markdown",
   "metadata": {},
   "source": [
    "Skip next two cells if target variable is not skewed."
   ]
  },
  {
   "cell_type": "code",
   "execution_count": 266,
   "metadata": {
    "collapsed": true
   },
   "outputs": [],
   "source": [
    "# def create_log_target(target, xmin, xmax, ymin, ymax):\n",
    "#     # fit the normal distribution on log target\n",
    "#     mu, sigma = norm.fit(np.log(target))\n",
    "\n",
    "#     # create histogram of log target\n",
    "#     plt.figure(figsize=(7,5))\n",
    "#     n, bins, patches = plt.hist(np.log(target), bins=60, normed=True, alpha=0.75, color='Grey')\n",
    "\n",
    "#     # add fitted line\n",
    "#     y = mlab.normpdf(bins, mu, sigma)\n",
    "#     l = plt.plot(bins, y, 'g--', linewidth=2)\n",
    "\n",
    "#     # plot histogram\n",
    "#     plt.xlabel('Log Target')\n",
    "#     plt.ylabel('Probability')\n",
    "#     plt.title('Histogram of Log Target: mu = {}, sigma = {}'.format(round(mu, 2), round(sigma, 2)))\n",
    "#     plt.axis([xmin, xmax, ymin, ymax])\n",
    "#     plt.grid(True)\n",
    "#     plt.show()"
   ]
  },
  {
   "cell_type": "code",
   "execution_count": 267,
   "metadata": {
    "collapsed": true
   },
   "outputs": [],
   "source": [
    "# create_log_target(target, 4.5, 11, 0, 0.5)"
   ]
  },
  {
   "cell_type": "code",
   "execution_count": 102,
   "metadata": {
    "collapsed": true
   },
   "outputs": [],
   "source": [
    "# # if log target is better:\n",
    "# def log_target(df):\n",
    "#     target = df.iloc[:,0]\n",
    "#     df['log_target'] = np.log(target)\n",
    "#     df = df.drop(target)\n",
    "#     return df"
   ]
  },
  {
   "cell_type": "markdown",
   "metadata": {},
   "source": [
    "#### Check Correlation"
   ]
  },
  {
   "cell_type": "code",
   "execution_count": 151,
   "metadata": {
    "collapsed": true,
    "scrolled": false
   },
   "outputs": [],
   "source": [
    "def create_correlation_heatmap(df):\n",
    "    # compute correlation matrix\n",
    "    corr = df.corr()\n",
    "    \n",
    "    # generate a mask for the upper triangle\n",
    "    mask = np.zeros_like(corr, dtype=np.bool)\n",
    "    mask[np.triu_indices_from(mask)] = True\n",
    "    \n",
    "    # create figure and plot\n",
    "    fig = plt.figure(figsize=(len(cont_feats), 5)) \n",
    "    sns.heatmap(corr, mask=mask, annot=True, fmt='.2f', cmap=sns.diverging_palette(220, 10, as_cmap=True))\n",
    "    plt.show()"
   ]
  },
  {
   "cell_type": "code",
   "execution_count": 152,
   "metadata": {},
   "outputs": [
    {
     "data": {
      "image/png": "[encoded data removed]",
      "text/plain": [
       "<matplotlib.figure.Figure at 0x218e6827588>"
      ]
     },
     "metadata": {},
     "output_type": "display_data"
    }
   ],
   "source": [
    "create_correlation_heatmap(train_df)"
   ]
  },
  {
   "cell_type": "markdown",
   "metadata": {},
   "source": [
    "It looks like there's a 0.98 or 0.99 correlation between:\n",
    "- Number of Time 30-59 Days Past Due Not Worse and Number of Time 60-89 Days Past Due Not Worse\n",
    "- Number of Time 30-59 Days Past Due Not Worse and Number of Time 90 Days Late\n",
    "- Number of Time 60-89 Days Past Due Not Worse and Number of Time 90 Days Late"
   ]
  },
  {
   "cell_type": "markdown",
   "metadata": {},
   "source": [
    "We can try dropping 'NumberOfTime30-59DaysPastDueNotWorse' and 'NumberOfTimes90DaysLate'."
   ]
  },
  {
   "cell_type": "code",
   "execution_count": 6,
   "metadata": {
    "collapsed": true
   },
   "outputs": [],
   "source": [
    "def drop_correlated_variables(df, correlated_variables):\n",
    "    df = df.drop(correlated_variables, axis=1)\n",
    "    return df"
   ]
  },
  {
   "cell_type": "markdown",
   "metadata": {},
   "source": [
    "## 3. Pre-Process and Clean Data"
   ]
  },
  {
   "cell_type": "markdown",
   "metadata": {},
   "source": [
    "### Check that values make sense"
   ]
  },
  {
   "cell_type": "markdown",
   "metadata": {},
   "source": [
    "RevolvingUtilizationOfUnsecuredLines and DebtRatio are percentages. Let's make sure that the values are between 0 and 1."
   ]
  },
  {
   "cell_type": "markdown",
   "metadata": {},
   "source": [
    "#### Revolving Utilization Of Unsecured Lines"
   ]
  },
  {
   "cell_type": "code",
   "execution_count": 153,
   "metadata": {},
   "outputs": [
    {
     "data": {
      "text/plain": [
       "count    150000.000000\n",
       "mean     6.048438     \n",
       "std      249.755371   \n",
       "min      0.000000     \n",
       "25%      0.029867     \n",
       "50%      0.154181     \n",
       "75%      0.559046     \n",
       "max      50708.000000 \n",
       "Name: RevolvingUtilizationOfUnsecuredLines, dtype: float64"
      ]
     },
     "execution_count": 153,
     "metadata": {},
     "output_type": "execute_result"
    }
   ],
   "source": [
    "train_df['RevolvingUtilizationOfUnsecuredLines'].describe()"
   ]
  },
  {
   "cell_type": "code",
   "execution_count": 154,
   "metadata": {},
   "outputs": [
    {
     "data": {
      "text/plain": [
       "<matplotlib.axes._subplots.AxesSubplot at 0x218e6974e80>"
      ]
     },
     "execution_count": 154,
     "metadata": {},
     "output_type": "execute_result"
    },
    {
     "data": {
      "image/png": "[encoded data removed]",
      "text/plain": [
       "<matplotlib.figure.Figure at 0x218ebe8feb8>"
      ]
     },
     "metadata": {},
     "output_type": "display_data"
    }
   ],
   "source": [
    "train_df['RevolvingUtilizationOfUnsecuredLines'].apply(lambda x:min(2.0,x)).hist(bins=50)"
   ]
  },
  {
   "cell_type": "code",
   "execution_count": 155,
   "metadata": {},
   "outputs": [
    {
     "data": {
      "text/plain": [
       "Text(0,0.5,'Default')"
      ]
     },
     "execution_count": 155,
     "metadata": {},
     "output_type": "execute_result"
    },
    {
     "data": {
      "image/png": "[encoded data removed]",
      "text/plain": [
       "<matplotlib.figure.Figure at 0x218e690f4a8>"
      ]
     },
     "metadata": {},
     "output_type": "display_data"
    }
   ],
   "source": [
    "x = train_df['RevolvingUtilizationOfUnsecuredLines'].apply(lambda x:min(5.0,x))\n",
    "y = train_df['SeriousDlqin2yrs']\n",
    "nbins = 10\n",
    "\n",
    "n, _ = np.histogram(x, bins=nbins)\n",
    "sy, _ = np.histogram(x, bins=nbins, weights=y)\n",
    "sy2, _ = np.histogram(x, bins=nbins, weights=y**2)\n",
    "mean = sy/n\n",
    "std = np.sqrt(sy2/n - mean*mean)\n",
    "\n",
    "plt.plot(x, y, 'bo')\n",
    "plt.errorbar((_[1:] + _[:-1])/2, mean, yerr=std, fmt='r-')\n",
    "plt.title('% Revolving Utilization of Unsecured Lines vs. Default')\n",
    "plt.xlabel('% Revolving Utilization')\n",
    "plt.ylabel('Default')"
   ]
  },
  {
   "cell_type": "code",
   "execution_count": 156,
   "metadata": {},
   "outputs": [
    {
     "name": "stdout",
     "output_type": "stream",
     "text": [
      "Optimization terminated successfully.\n",
      "         Current function value: 0.561587\n",
      "         Iterations 6\n"
     ]
    },
    {
     "data": {
      "text/html": [
       "<table class=\"simpletable\">\n",
       "<caption>Logit Regression Results</caption>\n",
       "<tr>\n",
       "  <th>Dep. Variable:</th> <td>SeriousDlqin2yrs</td> <th>  No. Observations:  </th>  <td>150000</td> \n",
       "</tr>\n",
       "<tr>\n",
       "  <th>Model:</th>               <td>Logit</td>      <th>  Df Residuals:      </th>  <td>149999</td> \n",
       "</tr>\n",
       "<tr>\n",
       "  <th>Method:</th>               <td>MLE</td>       <th>  Df Model:          </th>  <td>     0</td> \n",
       "</tr>\n",
       "<tr>\n",
       "  <th>Date:</th>          <td>Sun, 15 Apr 2018</td> <th>  Pseudo R-squ.:     </th>  <td>-1.289</td> \n",
       "</tr>\n",
       "<tr>\n",
       "  <th>Time:</th>              <td>16:09:16</td>     <th>  Log-Likelihood:    </th> <td> -84238.</td>\n",
       "</tr>\n",
       "<tr>\n",
       "  <th>converged:</th>           <td>True</td>       <th>  LL-Null:           </th> <td> -36808.</td>\n",
       "</tr>\n",
       "<tr>\n",
       "  <th> </th>                      <td> </td>        <th>  LLR p-value:       </th>  <td>   nan</td> \n",
       "</tr>\n",
       "</table>\n",
       "<table class=\"simpletable\">\n",
       "<tr>\n",
       "                    <td></td>                      <th>coef</th>     <th>std err</th>      <th>z</th>      <th>P>|z|</th>  <th>[0.025</th>    <th>0.975]</th>  \n",
       "</tr>\n",
       "<tr>\n",
       "  <th>RevolvingUtilizationOfUnsecuredLines</th> <td>   -2.8421</td> <td>    0.019</td> <td> -150.206</td> <td> 0.000</td> <td>   -2.879</td> <td>   -2.805</td>\n",
       "</tr>\n",
       "</table>"
      ],
      "text/plain": [
       "<class 'statsmodels.iolib.summary.Summary'>\n",
       "\"\"\"\n",
       "                           Logit Regression Results                           \n",
       "==============================================================================\n",
       "Dep. Variable:       SeriousDlqin2yrs   No. Observations:               150000\n",
       "Model:                          Logit   Df Residuals:                   149999\n",
       "Method:                           MLE   Df Model:                            0\n",
       "Date:                Sun, 15 Apr 2018   Pseudo R-squ.:                  -1.289\n",
       "Time:                        16:09:16   Log-Likelihood:                -84238.\n",
       "converged:                       True   LL-Null:                       -36808.\n",
       "                                        LLR p-value:                       nan\n",
       "========================================================================================================\n",
       "                                           coef    std err          z      P>|z|      [0.025      0.975]\n",
       "--------------------------------------------------------------------------------------------------------\n",
       "RevolvingUtilizationOfUnsecuredLines    -2.8421      0.019   -150.206      0.000      -2.879      -2.805\n",
       "========================================================================================================\n",
       "\"\"\""
      ]
     },
     "execution_count": 156,
     "metadata": {},
     "output_type": "execute_result"
    }
   ],
   "source": [
    "sm.Logit(endog=train_df['SeriousDlqin2yrs'], exog=train_df['RevolvingUtilizationOfUnsecuredLines'].apply(lambda x:min(5.0,x))\n",
    ").fit().summary()"
   ]
  },
  {
   "cell_type": "code",
   "execution_count": 157,
   "metadata": {
    "scrolled": true
   },
   "outputs": [
    {
     "data": {
      "text/plain": [
       "<matplotlib.axes._subplots.AxesSubplot at 0x218e6ca6160>"
      ]
     },
     "execution_count": 157,
     "metadata": {},
     "output_type": "execute_result"
    },
    {
     "data": {
      "image/png": "[encoded data removed]",
      "text/plain": [
       "<matplotlib.figure.Figure at 0x218ee50d5f8>"
      ]
     },
     "metadata": {},
     "output_type": "display_data"
    }
   ],
   "source": [
    "train_df.groupby('RevolvingUtilizationOfUnsecuredLines')['SeriousDlqin2yrs'].cumsum().plot()"
   ]
  },
  {
   "cell_type": "markdown",
   "metadata": {},
   "source": [
    "Based on the previous graphs, I'm deciding to cap 'RevolvingUtilizationOfUnsecuredLines' at 5."
   ]
  },
  {
   "cell_type": "markdown",
   "metadata": {},
   "source": [
    "#### Debt Ratio"
   ]
  },
  {
   "cell_type": "code",
   "execution_count": 317,
   "metadata": {
    "collapsed": true
   },
   "outputs": [],
   "source": [
    "train_df['RevolvingUtilizationOfUnsecuredLines'] = train_df['RevolvingUtilizationOfUnsecuredLines'].apply(lambda x: min(5.0, x))"
   ]
  },
  {
   "cell_type": "code",
   "execution_count": 159,
   "metadata": {},
   "outputs": [
    {
     "data": {
      "text/plain": [
       "count    150000.000000\n",
       "mean     353.005076   \n",
       "std      2037.818523  \n",
       "min      0.000000     \n",
       "25%      0.175074     \n",
       "50%      0.366508     \n",
       "75%      0.868254     \n",
       "max      329664.000000\n",
       "Name: DebtRatio, dtype: float64"
      ]
     },
     "execution_count": 159,
     "metadata": {},
     "output_type": "execute_result"
    }
   ],
   "source": [
    "train_df['DebtRatio'].describe()"
   ]
  },
  {
   "cell_type": "code",
   "execution_count": 160,
   "metadata": {},
   "outputs": [
    {
     "data": {
      "text/plain": [
       "<matplotlib.axes._subplots.AxesSubplot at 0x218e87b4780>"
      ]
     },
     "execution_count": 160,
     "metadata": {},
     "output_type": "execute_result"
    },
    {
     "data": {
      "image/png": "[encoded data removed]",
      "text/plain": [
       "<matplotlib.figure.Figure at 0x218e677b1d0>"
      ]
     },
     "metadata": {},
     "output_type": "display_data"
    }
   ],
   "source": [
    "train_df['DebtRatio'].apply(lambda x: min(2000, x)).hist(bins=50)"
   ]
  },
  {
   "cell_type": "code",
   "execution_count": 161,
   "metadata": {},
   "outputs": [
    {
     "data": {
      "text/plain": [
       "Text(0,0.5,'Default')"
      ]
     },
     "execution_count": 161,
     "metadata": {},
     "output_type": "execute_result"
    },
    {
     "data": {
      "image/png": "[encoded data removed]",
      "text/plain": [
       "<matplotlib.figure.Figure at 0x218e68270b8>"
      ]
     },
     "metadata": {},
     "output_type": "display_data"
    }
   ],
   "source": [
    "x = train_df['DebtRatio'].apply(lambda x: min(2000.0, x))\n",
    "y = train_df['SeriousDlqin2yrs']\n",
    "nbins = 10\n",
    "\n",
    "n, _ = np.histogram(x, bins=nbins)\n",
    "sy, _ = np.histogram(x, bins=nbins, weights=y)\n",
    "sy2, _ = np.histogram(x, bins=nbins, weights=y**2)\n",
    "mean = sy/n\n",
    "std = np.sqrt(sy2/n - mean*mean)\n",
    "\n",
    "plt.plot(x, y, 'bo')\n",
    "plt.errorbar((_[1:] + _[:-1])/2, mean, yerr=std, fmt='r-')\n",
    "plt.title('% Debt Ratio vs. Default')\n",
    "plt.xlabel('% Debt Ratio')\n",
    "plt.ylabel('Default')"
   ]
  },
  {
   "cell_type": "markdown",
   "metadata": {},
   "source": [
    "Based on the previous graphs, I'm deciding to cap 'DebtRatio' at 2000."
   ]
  },
  {
   "cell_type": "code",
   "execution_count": 318,
   "metadata": {
    "collapsed": true
   },
   "outputs": [],
   "source": [
    "train_df['DebtRatio'] = train_df['DebtRatio'].apply(lambda x: min(2000.0, x))"
   ]
  },
  {
   "cell_type": "code",
   "execution_count": 50,
   "metadata": {
    "collapsed": true
   },
   "outputs": [],
   "source": [
    "def cap_outliers(df, outliers):\n",
    "    for outlier, cap in outliers:\n",
    "        df[outlier] = df[outlier].apply(lambda x: min(cap, x))\n",
    "    return df"
   ]
  },
  {
   "cell_type": "markdown",
   "metadata": {},
   "source": [
    "### Outlier Detection"
   ]
  },
  {
   "cell_type": "code",
   "execution_count": 7,
   "metadata": {
    "collapsed": true
   },
   "outputs": [],
   "source": [
    "def iqr_outlier(var):\n",
    "    q1, q3 = np.percentile(var, [25, 75])\n",
    "    iqr = q3 - q1\n",
    "    lower_fence = q1 - (iqr * 1.5)\n",
    "    upper_fence = q3 + (iqr * 1.5)\n",
    "    return np.where((var > upper_fence) | (var < lower_fence))"
   ]
  },
  {
   "cell_type": "markdown",
   "metadata": {},
   "source": [
    "#### Age"
   ]
  },
  {
   "cell_type": "code",
   "execution_count": 164,
   "metadata": {
    "scrolled": true
   },
   "outputs": [
    {
     "data": {
      "text/plain": [
       "<matplotlib.axes._subplots.AxesSubplot at 0x218e68be9b0>"
      ]
     },
     "execution_count": 164,
     "metadata": {},
     "output_type": "execute_result"
    },
    {
     "data": {
      "image/png": "[encoded data removed]",
      "text/plain": [
       "<matplotlib.figure.Figure at 0x218e650ecc0>"
      ]
     },
     "metadata": {},
     "output_type": "display_data"
    }
   ],
   "source": [
    "train_df.iloc[iqr_outlier(train_df['age'])]['age'].hist(bins=25)"
   ]
  },
  {
   "cell_type": "markdown",
   "metadata": {},
   "source": [
    "Someone is age 0 - let's find that person and fix it."
   ]
  },
  {
   "cell_type": "code",
   "execution_count": 326,
   "metadata": {
    "collapsed": true
   },
   "outputs": [],
   "source": [
    "# replace age = 0 with median age\n",
    "mask = train_df['age'] == 0\n",
    "train_df.loc[mask, 'age'] = train_df['age'].median()"
   ]
  },
  {
   "cell_type": "markdown",
   "metadata": {},
   "source": [
    "#### Number Of Time 60-89 Days Past Due Not Worse"
   ]
  },
  {
   "cell_type": "code",
   "execution_count": 166,
   "metadata": {},
   "outputs": [
    {
     "data": {
      "text/plain": [
       "<matplotlib.axes._subplots.AxesSubplot at 0x218e68be160>"
      ]
     },
     "execution_count": 166,
     "metadata": {},
     "output_type": "execute_result"
    },
    {
     "data": {
      "image/png": "[encoded data removed]",
      "text/plain": [
       "<matplotlib.figure.Figure at 0x218e63dbcc0>"
      ]
     },
     "metadata": {},
     "output_type": "display_data"
    }
   ],
   "source": [
    "train_df.iloc[iqr_outlier(train_df['NumberOfTime60-89DaysPastDueNotWorse'])]['NumberOfTime60-89DaysPastDueNotWorse'].hist(bins=25)"
   ]
  },
  {
   "cell_type": "code",
   "execution_count": 184,
   "metadata": {
    "scrolled": true
   },
   "outputs": [
    {
     "data": {
      "text/plain": [
       "0     142665\n",
       "1     5731  \n",
       "2     1118  \n",
       "3     318   \n",
       "4     105   \n",
       "5     34    \n",
       "6     16    \n",
       "7     9     \n",
       "8     2     \n",
       "11    1     \n",
       "9     1     \n",
       "Name: NumberOfTime60-89DaysPastDueNotWorse, dtype: int64"
      ]
     },
     "execution_count": 184,
     "metadata": {},
     "output_type": "execute_result"
    }
   ],
   "source": [
    "train_df['NumberOfTime60-89DaysPastDueNotWorse'].value_counts()"
   ]
  },
  {
   "cell_type": "markdown",
   "metadata": {},
   "source": [
    "There are 264 people 98 times 60-89 days past due, and 5 people with 96 times 60-89 days past due. I'm going to assume that these are errors (or a code for unknown) and replace them with 0."
   ]
  },
  {
   "cell_type": "code",
   "execution_count": 327,
   "metadata": {
    "collapsed": true
   },
   "outputs": [],
   "source": [
    "# replace NumberOfTime60-89DaysPastDueNotWorse > 95 with 0\n",
    "mask = train_df['NumberOfTime60-89DaysPastDueNotWorse'] > 95\n",
    "train_df.loc[mask, 'NumberOfTime60-89DaysPastDueNotWorse'] = 0"
   ]
  },
  {
   "cell_type": "markdown",
   "metadata": {},
   "source": [
    "#### Likewise, replace other 'Past Due' outliers"
   ]
  },
  {
   "cell_type": "code",
   "execution_count": 16,
   "metadata": {
    "scrolled": true
   },
   "outputs": [
    {
     "data": {
      "text/plain": [
       "array([ 2,  0,  1,  3,  4,  5,  7, 10,  6, 98, 12,  8,  9, 96, 13, 11], dtype=int64)"
      ]
     },
     "execution_count": 16,
     "metadata": {},
     "output_type": "execute_result"
    }
   ],
   "source": [
    "train_df['NumberOfTime30-59DaysPastDueNotWorse'].unique()"
   ]
  },
  {
   "cell_type": "code",
   "execution_count": 328,
   "metadata": {
    "collapsed": true
   },
   "outputs": [],
   "source": [
    "mask = train_df['NumberOfTime30-59DaysPastDueNotWorse'] > 95\n",
    "train_df.loc[mask, 'NumberOfTime30-59DaysPastDueNotWorse'] = 0"
   ]
  },
  {
   "cell_type": "code",
   "execution_count": 17,
   "metadata": {},
   "outputs": [
    {
     "data": {
      "text/plain": [
       "array([ 0,  1,  3,  2,  5,  4, 98, 10,  9,  6,  7,  8, 15, 96, 11, 13, 14,\n",
       "       17, 12], dtype=int64)"
      ]
     },
     "execution_count": 17,
     "metadata": {},
     "output_type": "execute_result"
    }
   ],
   "source": [
    "train_df['NumberOfTimes90DaysLate'].unique()"
   ]
  },
  {
   "cell_type": "code",
   "execution_count": 329,
   "metadata": {
    "collapsed": true
   },
   "outputs": [],
   "source": [
    "mask = train_df['NumberOfTimes90DaysLate'] > 95\n",
    "train_df.loc[mask, 'NumberOfTimes90DaysLate'] = 0"
   ]
  },
  {
   "cell_type": "markdown",
   "metadata": {},
   "source": [
    "#### Deal with Missing Values"
   ]
  },
  {
   "cell_type": "markdown",
   "metadata": {},
   "source": [
    "Depending on the model, it may be better to fill missing values with an average (mean/median) or a different value like -1."
   ]
  },
  {
   "cell_type": "code",
   "execution_count": 193,
   "metadata": {},
   "outputs": [
    {
     "name": "stdout",
     "output_type": "stream",
     "text": [
      "% of rows with missing values: 0.0\n"
     ]
    }
   ],
   "source": [
    "# check for missing values\n",
    "print('% of rows with missing values:', round(len(train_df[train_df.isnull().any(axis=1)])/len(train_df),3)*100)"
   ]
  },
  {
   "cell_type": "code",
   "execution_count": 194,
   "metadata": {},
   "outputs": [
    {
     "data": {
      "text/plain": [
       "SeriousDlqin2yrs                        0\n",
       "RevolvingUtilizationOfUnsecuredLines    0\n",
       "age                                     0\n",
       "NumberOfTime30-59DaysPastDueNotWorse    0\n",
       "DebtRatio                               0\n",
       "MonthlyIncome                           0\n",
       "NumberOfOpenCreditLinesAndLoans         0\n",
       "NumberOfTimes90DaysLate                 0\n",
       "NumberRealEstateLoansOrLines            0\n",
       "NumberOfTime60-89DaysPastDueNotWorse    0\n",
       "NumberOfDependents                      0\n",
       "dtype: int64"
      ]
     },
     "execution_count": 194,
     "metadata": {},
     "output_type": "execute_result"
    }
   ],
   "source": [
    "# check which columns have missing values\n",
    "train_df.isnull().sum()"
   ]
  },
  {
   "cell_type": "markdown",
   "metadata": {},
   "source": [
    "I have a few choices for filling in missing values. However, in this case, an unknown monthly income and unknown number of dependents can be reasonably filled with 0."
   ]
  },
  {
   "cell_type": "code",
   "execution_count": 11,
   "metadata": {
    "collapsed": true
   },
   "outputs": [],
   "source": [
    "def fill_na_with_zero(df):\n",
    "    df2 = df.copy(deep=True)\n",
    "    null_vars = list(df2.columns[df2.isnull().any()])\n",
    "    for i in null_vars:\n",
    "        df2[i] = df2[i].fillna(0)\n",
    "    return df2"
   ]
  },
  {
   "cell_type": "code",
   "execution_count": 12,
   "metadata": {
    "collapsed": true
   },
   "outputs": [],
   "source": [
    "def fill_na_with_median(df):\n",
    "    df2 = df.copy(deep=True)\n",
    "    null_vars = list(df.columns[df2.isnull().any()])\n",
    "    for i in null_vars:\n",
    "        df2[i] = df2[i].fillna(df2[i].median())\n",
    "    return df2"
   ]
  },
  {
   "cell_type": "code",
   "execution_count": 13,
   "metadata": {
    "collapsed": true
   },
   "outputs": [],
   "source": [
    "def fill_na_with_neg_one(df):\n",
    "    df2 = df.copy(deep=True)\n",
    "    null_vars = list(df2.columns[df2.isnull().any()])\n",
    "    for i in null_vars:\n",
    "        df2[i] = df2[i].fillna(-1)\n",
    "    return df2"
   ]
  },
  {
   "cell_type": "markdown",
   "metadata": {},
   "source": [
    "### 4. Generate Features/Predictors"
   ]
  },
  {
   "cell_type": "markdown",
   "metadata": {},
   "source": [
    "#### Convert Categorical Features to Binary Features"
   ]
  },
  {
   "cell_type": "code",
   "execution_count": 96,
   "metadata": {
    "collapsed": true
   },
   "outputs": [],
   "source": [
    "# def one_hot_encoding_categorical(df, target):\n",
    "#     # separate out categorical features\n",
    "#     cat_feats = [x for x in df.select_dtypes(include=['object']).columns if x not in [target]]\n",
    "    \n",
    "#     # one hot encoding for categorical features\n",
    "#     binary_feats = pd.get_dummies(df[cat_feats])\n",
    "\n",
    "#     # concatenate binary features\n",
    "#     df = pd.concat([df, binary_feats], axis=1)\n",
    "#     df = df.drop(cat_feats, axis=1)\n",
    "#     return df"
   ]
  },
  {
   "cell_type": "markdown",
   "metadata": {},
   "source": [
    "#### Train Test Split"
   ]
  },
  {
   "cell_type": "code",
   "execution_count": 21,
   "metadata": {
    "collapsed": true
   },
   "outputs": [],
   "source": [
    "def split_data(df, target, test_size=0.3):\n",
    "    y = df[target] # or np.log(df[target])\n",
    "    X = df.drop([target], axis=1)\n",
    "\n",
    "    X_train, X_test, y_train, y_test = train_test_split(X, y, test_size=test_size)\n",
    "\n",
    "    print('X train shape:', X_train.shape)\n",
    "    print('y train shape:', y_train.shape)\n",
    "    print('X test shape:', X_test.shape)\n",
    "    print('y test shape:', y_test.shape)\n",
    "    return X_train, X_test, y_train, y_test"
   ]
  },
  {
   "cell_type": "markdown",
   "metadata": {},
   "source": [
    "#### Simple X and y Split"
   ]
  },
  {
   "cell_type": "code",
   "execution_count": null,
   "metadata": {
    "collapsed": true
   },
   "outputs": [],
   "source": [
    "# def x_y_split(df, target):\n",
    "#     y = df[target] # or np.log(df[target])\n",
    "#     X = df.drop([target], axis=1)\n",
    "#     return X, y"
   ]
  },
  {
   "cell_type": "markdown",
   "metadata": {},
   "source": [
    "### 5. Build Machine Learning Classifiers"
   ]
  },
  {
   "cell_type": "code",
   "execution_count": 14,
   "metadata": {
    "collapsed": true
   },
   "outputs": [],
   "source": [
    "ridge = linear_model.RidgeClassifier()"
   ]
  },
  {
   "cell_type": "code",
   "execution_count": 16,
   "metadata": {
    "collapsed": true
   },
   "outputs": [],
   "source": [
    "decision_tree = tree.DecisionTreeClassifier(class_weight=None, criterion='gini', max_depth=5,\n",
    "            min_impurity_decrease=0.0, min_impurity_split=None,\n",
    "            min_samples_leaf=5, min_samples_split=10)"
   ]
  },
  {
   "cell_type": "markdown",
   "metadata": {},
   "source": [
    "### 6. Evaluate Classifier"
   ]
  },
  {
   "cell_type": "code",
   "execution_count": 22,
   "metadata": {
    "collapsed": true
   },
   "outputs": [],
   "source": [
    "def calculate_cv(model, X_train, y_train, n_splits=10, seed=8):\n",
    "    kfold = KFold(n_splits, random_state=seed)\n",
    "    scores = cross_val_score(model, X_train, y_train, cv=kfold)\n",
    "    print('Model average score:', round(scores.mean(), 3))"
   ]
  },
  {
   "cell_type": "markdown",
   "metadata": {},
   "source": [
    "#### Fill NA with 0"
   ]
  },
  {
   "cell_type": "code",
   "execution_count": 97,
   "metadata": {},
   "outputs": [
    {
     "name": "stdout",
     "output_type": "stream",
     "text": [
      "Dataset shape: (150000, 11)\n",
      "Dataset columns: Index(['SeriousDlqin2yrs', 'RevolvingUtilizationOfUnsecuredLines', 'age',\n",
      "       'NumberOfTime30-59DaysPastDueNotWorse', 'DebtRatio', 'MonthlyIncome',\n",
      "       'NumberOfOpenCreditLinesAndLoans', 'NumberOfTimes90DaysLate',\n",
      "       'NumberRealEstateLoansOrLines', 'NumberOfTime60-89DaysPastDueNotWorse',\n",
      "       'NumberOfDependents'],\n",
      "      dtype='object')\n",
      "Dataset types: SeriousDlqin2yrs                        int64  \n",
      "RevolvingUtilizationOfUnsecuredLines    float64\n",
      "age                                     int64  \n",
      "NumberOfTime30-59DaysPastDueNotWorse    int64  \n",
      "DebtRatio                               float64\n",
      "MonthlyIncome                           float64\n",
      "NumberOfOpenCreditLinesAndLoans         int64  \n",
      "NumberOfTimes90DaysLate                 int64  \n",
      "NumberRealEstateLoansOrLines            int64  \n",
      "NumberOfTime60-89DaysPastDueNotWorse    int64  \n",
      "NumberOfDependents                      float64\n",
      "dtype: object\n",
      "\n"
     ]
    }
   ],
   "source": [
    "train_df = load_data('GiveMeSomeCredit/cs-training.csv', verbose=True)\n",
    "train_df = fill_na_with_zero(train_df)"
   ]
  },
  {
   "cell_type": "code",
   "execution_count": 34,
   "metadata": {},
   "outputs": [
    {
     "name": "stdout",
     "output_type": "stream",
     "text": [
      "X train shape: (105000, 10)\n",
      "y train shape: (105000,)\n",
      "X test shape: (45000, 10)\n",
      "y test shape: (45000,)\n"
     ]
    }
   ],
   "source": [
    "X_train, X_test, y_train, y_test = split_data(train_df, 'SeriousDlqin2yrs', test_size=0.3)"
   ]
  },
  {
   "cell_type": "code",
   "execution_count": 35,
   "metadata": {},
   "outputs": [
    {
     "name": "stdout",
     "output_type": "stream",
     "text": [
      "Model average score: 0.933\n"
     ]
    }
   ],
   "source": [
    "calculate_cv(ridge, X_train, y_train)"
   ]
  },
  {
   "cell_type": "code",
   "execution_count": 36,
   "metadata": {},
   "outputs": [
    {
     "name": "stdout",
     "output_type": "stream",
     "text": [
      "Model average score: 0.936\n"
     ]
    }
   ],
   "source": [
    "calculate_cv(decision_tree, X_train, y_train)"
   ]
  },
  {
   "cell_type": "markdown",
   "metadata": {},
   "source": [
    "#### Fill N/A with median"
   ]
  },
  {
   "cell_type": "code",
   "execution_count": 37,
   "metadata": {},
   "outputs": [],
   "source": [
    "train_df = load_data('GiveMeSomeCredit/cs-training.csv')\n",
    "train_df = fill_na_with_median(train_df)"
   ]
  },
  {
   "cell_type": "code",
   "execution_count": 38,
   "metadata": {},
   "outputs": [
    {
     "name": "stdout",
     "output_type": "stream",
     "text": [
      "X train shape: (105000, 10)\n",
      "y train shape: (105000,)\n",
      "X test shape: (45000, 10)\n",
      "y test shape: (45000,)\n"
     ]
    }
   ],
   "source": [
    "X_train, X_test, y_train, y_test = split_data(train_df, 'SeriousDlqin2yrs', test_size=0.3)"
   ]
  },
  {
   "cell_type": "code",
   "execution_count": 39,
   "metadata": {},
   "outputs": [
    {
     "name": "stdout",
     "output_type": "stream",
     "text": [
      "Model average score: 0.933\n"
     ]
    }
   ],
   "source": [
    "calculate_cv(ridge, X_train, y_train)"
   ]
  },
  {
   "cell_type": "code",
   "execution_count": 40,
   "metadata": {},
   "outputs": [
    {
     "name": "stdout",
     "output_type": "stream",
     "text": [
      "Model average score: 0.935\n"
     ]
    }
   ],
   "source": [
    "calculate_cv(decision_tree, X_train, y_train)"
   ]
  },
  {
   "cell_type": "markdown",
   "metadata": {},
   "source": [
    "#### Fill N/A with -1"
   ]
  },
  {
   "cell_type": "code",
   "execution_count": 41,
   "metadata": {},
   "outputs": [],
   "source": [
    "train_df = load_data('GiveMeSomeCredit/cs-training.csv')\n",
    "train_df = fill_na_with_neg_one(train_df)"
   ]
  },
  {
   "cell_type": "code",
   "execution_count": 42,
   "metadata": {},
   "outputs": [
    {
     "name": "stdout",
     "output_type": "stream",
     "text": [
      "X train shape: (105000, 10)\n",
      "y train shape: (105000,)\n",
      "X test shape: (45000, 10)\n",
      "y test shape: (45000,)\n"
     ]
    }
   ],
   "source": [
    "X_train, X_test, y_train, y_test = split_data(train_df, 'SeriousDlqin2yrs', test_size=0.3)"
   ]
  },
  {
   "cell_type": "code",
   "execution_count": 43,
   "metadata": {
    "scrolled": true
   },
   "outputs": [
    {
     "name": "stdout",
     "output_type": "stream",
     "text": [
      "Model average score: 0.933\n"
     ]
    }
   ],
   "source": [
    "calculate_cv(ridge, X_train, y_train)"
   ]
  },
  {
   "cell_type": "code",
   "execution_count": 44,
   "metadata": {},
   "outputs": [
    {
     "name": "stdout",
     "output_type": "stream",
     "text": [
      "Model average score: 0.936\n"
     ]
    }
   ],
   "source": [
    "calculate_cv(decision_tree, X_train, y_train)"
   ]
  },
  {
   "cell_type": "markdown",
   "metadata": {},
   "source": [
    "#### Fill NA with 0 & Drop Correlated Variables 'NumberOfTime30-59DaysPastDueNotWorse' and 'NumberOfTimes90DaysLate'"
   ]
  },
  {
   "cell_type": "code",
   "execution_count": 65,
   "metadata": {
    "collapsed": true
   },
   "outputs": [],
   "source": [
    "train_df = load_data('GiveMeSomeCredit/cs-training.csv')\n",
    "train_df = fill_na_with_zero(train_df)\n",
    "train_df = drop_correlated_variables(train_df, ['NumberOfTime30-59DaysPastDueNotWorse', 'NumberOfTimes90DaysLate'])"
   ]
  },
  {
   "cell_type": "code",
   "execution_count": 66,
   "metadata": {},
   "outputs": [
    {
     "name": "stdout",
     "output_type": "stream",
     "text": [
      "X train shape: (105000, 8)\n",
      "y train shape: (105000,)\n",
      "X test shape: (45000, 8)\n",
      "y test shape: (45000,)\n"
     ]
    }
   ],
   "source": [
    "X_train, X_test, y_train, y_test = split_data(train_df, 'SeriousDlqin2yrs', test_size=0.3)"
   ]
  },
  {
   "cell_type": "code",
   "execution_count": 67,
   "metadata": {},
   "outputs": [
    {
     "name": "stdout",
     "output_type": "stream",
     "text": [
      "Model average score: 0.933\n"
     ]
    }
   ],
   "source": [
    "calculate_cv(ridge, X_train, y_train)"
   ]
  },
  {
   "cell_type": "code",
   "execution_count": 68,
   "metadata": {},
   "outputs": [
    {
     "name": "stdout",
     "output_type": "stream",
     "text": [
      "Model average score: 0.934\n"
     ]
    }
   ],
   "source": [
    "calculate_cv(decision_tree, X_train, y_train)"
   ]
  },
  {
   "cell_type": "markdown",
   "metadata": {
    "collapsed": true
   },
   "source": [
    "#### Fill NA with 0 & Cap 'RevolvingUtilizationOfUnsecuredLines' and 'DebtRatio'"
   ]
  },
  {
   "cell_type": "code",
   "execution_count": 51,
   "metadata": {},
   "outputs": [],
   "source": [
    "train_df = load_data('GiveMeSomeCredit/cs-training.csv')\n",
    "train_df = fill_na_with_zero(train_df)\n",
    "train_df = cap_outliers(train_df, [('RevolvingUtilizationOfUnsecuredLines', 5.0), ('DebtRatio', 2000.0)])"
   ]
  },
  {
   "cell_type": "code",
   "execution_count": 52,
   "metadata": {},
   "outputs": [
    {
     "name": "stdout",
     "output_type": "stream",
     "text": [
      "X train shape: (105000, 10)\n",
      "y train shape: (105000,)\n",
      "X test shape: (45000, 10)\n",
      "y test shape: (45000,)\n"
     ]
    }
   ],
   "source": [
    "X_train, X_test, y_train, y_test = split_data(train_df, 'SeriousDlqin2yrs', test_size=0.3)"
   ]
  },
  {
   "cell_type": "code",
   "execution_count": 53,
   "metadata": {},
   "outputs": [
    {
     "name": "stdout",
     "output_type": "stream",
     "text": [
      "Model average score: 0.933\n"
     ]
    }
   ],
   "source": [
    "calculate_cv(ridge, X_train, y_train)"
   ]
  },
  {
   "cell_type": "code",
   "execution_count": 54,
   "metadata": {},
   "outputs": [
    {
     "name": "stdout",
     "output_type": "stream",
     "text": [
      "Model average score: 0.937\n"
     ]
    }
   ],
   "source": [
    "calculate_cv(decision_tree, X_train, y_train)"
   ]
  },
  {
   "cell_type": "markdown",
   "metadata": {},
   "source": [
    "#### Fill NA with 0 & Replace Outliers ('Age', 'NumberOfTime30-59DaysPastDueNotWorse', 'NumberOfTime60-89DaysPastDueNotWorse', 'NumberOfTimes90DaysLate')"
   ]
  },
  {
   "cell_type": "code",
   "execution_count": 55,
   "metadata": {
    "collapsed": true
   },
   "outputs": [],
   "source": [
    "train_df = load_data('GiveMeSomeCredit/cs-training.csv')\n",
    "train_df = fill_na_with_zero(train_df)\n",
    "train_df = replace_past_due_outliers(train_df)"
   ]
  },
  {
   "cell_type": "code",
   "execution_count": 56,
   "metadata": {},
   "outputs": [
    {
     "name": "stdout",
     "output_type": "stream",
     "text": [
      "X train shape: (105000, 10)\n",
      "y train shape: (105000,)\n",
      "X test shape: (45000, 10)\n",
      "y test shape: (45000,)\n"
     ]
    }
   ],
   "source": [
    "X_train, X_test, y_train, y_test = split_data(train_df, 'SeriousDlqin2yrs', test_size=0.3)"
   ]
  },
  {
   "cell_type": "code",
   "execution_count": 57,
   "metadata": {},
   "outputs": [
    {
     "name": "stdout",
     "output_type": "stream",
     "text": [
      "Model average score: 0.936\n"
     ]
    }
   ],
   "source": [
    "calculate_cv(ridge, X_train, y_train)"
   ]
  },
  {
   "cell_type": "code",
   "execution_count": 58,
   "metadata": {
    "scrolled": false
   },
   "outputs": [
    {
     "name": "stdout",
     "output_type": "stream",
     "text": [
      "Model average score: 0.936\n"
     ]
    }
   ],
   "source": [
    "calculate_cv(decision_tree, X_train, y_train)"
   ]
  },
  {
   "cell_type": "markdown",
   "metadata": {
    "collapsed": true
   },
   "source": [
    "## Final Model: Fill NA with 0, cap outliers, and use a decision tree classifier"
   ]
  },
  {
   "cell_type": "code",
   "execution_count": 85,
   "metadata": {},
   "outputs": [],
   "source": [
    "train_df = load_data('GiveMeSomeCredit/cs-training.csv')\n",
    "train_df = fill_na_with_zero(train_df)\n",
    "train_df = cap_outliers(train_df, [('RevolvingUtilizationOfUnsecuredLines', 5.0), ('DebtRatio', 2000.0)])"
   ]
  },
  {
   "cell_type": "code",
   "execution_count": 86,
   "metadata": {},
   "outputs": [
    {
     "name": "stdout",
     "output_type": "stream",
     "text": [
      "X train shape: (105000, 10)\n",
      "y train shape: (105000,)\n",
      "X test shape: (45000, 10)\n",
      "y test shape: (45000,)\n"
     ]
    }
   ],
   "source": [
    "X_train, X_test, y_train, y_test = split_data(train_df, 'SeriousDlqin2yrs', test_size=0.3)"
   ]
  },
  {
   "cell_type": "code",
   "execution_count": 87,
   "metadata": {
    "scrolled": false
   },
   "outputs": [
    {
     "name": "stdout",
     "output_type": "stream",
     "text": [
      "Model average score: 0.936\n"
     ]
    }
   ],
   "source": [
    "calculate_cv(decision_tree, X_train, y_train)"
   ]
  },
  {
   "cell_type": "markdown",
   "metadata": {},
   "source": [
    "## Now let's try the model on the held out test set"
   ]
  },
  {
   "cell_type": "code",
   "execution_count": 88,
   "metadata": {},
   "outputs": [
    {
     "name": "stdout",
     "output_type": "stream",
     "text": [
      "Model average score: 0.936\n"
     ]
    }
   ],
   "source": [
    "calculate_cv(decision_tree, X_test, y_test)"
   ]
  }
 ],
 "metadata": {
  "kernelspec": {
   "display_name": "Python 3",
   "language": "python",
   "name": "python3"
  },
  "language_info": {
   "codemirror_mode": {
    "name": "ipython",
    "version": 3
   },
   "file_extension": ".py",
   "mimetype": "text/x-python",
   "name": "python",
   "nbconvert_exporter": "python",
   "pygments_lexer": "ipython3",
   "version": "3.6.4"
  }
 },
 "nbformat": 4,
 "nbformat_minor": 2
}
